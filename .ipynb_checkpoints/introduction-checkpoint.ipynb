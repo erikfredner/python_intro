{
 "cells": [
  {
   "cell_type": "markdown",
   "metadata": {},
   "source": [
    "# Welcome to Python!\n",
    "\n",
    "This notebook aims to get you familiar with essential aspects of the [Python](https://www.python.org) language. Anaconda is a *distribution* of Python widely used in data science that comes with many useful packages preinstalled. Jupyter Lab, which you're using right now, is one such package.\n",
    "\n",
    "Python is great for a lot of different tasks in computational literary studies. Combined with the `pandas` package for tabular data, it can be used to do just about anything that you would use the R language for. Especially for people who haven't programmed before, Python can be easier to learn than R.\n",
    "\n",
    "# Learn by doing: upgrading text search\n",
    "One of the best ways to learn to program is by trying to figure out particular problems. So, today we're going to create an upgraded version of the `cmd/ctrl + F` search to find sets of words within user-defined proximity of one another. That is, we'll be able to find not only our target word (e.g. \"whale\") but also where it co-occurs with another target word (e.g. \"Ahab\").\n",
    "\n",
    "This is one implementation of *keywords in context analysis*, a common technique in computational text analysis. A \"contex\" is ususally defined as a fixed number of words, keywords, or sentences surrounding our target word(s).\n",
    "\n",
    "## What we learn along the way\n",
    "\n",
    "To do the above, we'll learn many of the key ideas in Python:\n",
    "\n",
    "- strings\n",
    "- integers\n",
    "- variables\n",
    "- reading files\n",
    "- lists\n",
    "- indexing\n",
    "- Booleans\n",
    "- `for` loops\n",
    "- functions\n",
    "\n",
    "I briefly introduce each of these, and demonstrate how they can be applied in this case.\n",
    "\n",
    "# First steps\n",
    "Of course, we have to start somewhere. Traditionally, the first program you write prints the phrase `hello world` to standard output. In Python, we write that this way:\n",
    "```python\n",
    "print('hello world')\n",
    "```\n",
    "In Jupyter Lab, we execute Python commands in code cells, like the one below. The output of each cell is printed immediately below."
   ]
  },
  {
   "cell_type": "code",
   "execution_count": 2,
   "metadata": {},
   "outputs": [
    {
     "name": "stdout",
     "output_type": "stream",
     "text": [
      "hello world\n"
     ]
    }
   ],
   "source": [
    "print('hello world')"
   ]
  },
  {
   "cell_type": "markdown",
   "metadata": {},
   "source": [
    "This statement is comprised of two parts: the function `print()` and the string `'hello world'`, which we pass as an argument to `print()`.\n",
    "\n",
    "The text that appears below the `print()` command is the *output*.\n",
    "\n",
    "## Documentation\n",
    "Every function has supporting documentation describing what it does. Here's the relevant information for `print()`:\n",
    "https://docs.python.org/3/library/functions.html#print\n",
    "\n",
    "If you're not sure what something does, look it up!"
   ]
  },
  {
   "cell_type": "markdown",
   "metadata": {},
   "source": [
    "# Python Basics"
   ]
  },
  {
   "cell_type": "code",
   "execution_count": 3,
   "metadata": {},
   "outputs": [],
   "source": [
    "# Lines that begin with # are comments. The computer won't attempt to execute anything here. It's for us humans."
   ]
  },
  {
   "cell_type": "code",
   "execution_count": 4,
   "metadata": {},
   "outputs": [
    {
     "data": {
      "text/plain": [
       "100"
      ]
     },
     "execution_count": 4,
     "metadata": {},
     "output_type": "execute_result"
    }
   ],
   "source": [
    "# We use write numbers as you might expect\n",
    "100"
   ]
  },
  {
   "cell_type": "code",
   "execution_count": 5,
   "metadata": {},
   "outputs": [
    {
     "data": {
      "text/plain": [
       "300"
      ]
     },
     "execution_count": 5,
     "metadata": {},
     "output_type": "execute_result"
    }
   ],
   "source": [
    "# Ditto for arithmetic\n",
    "100 + 200"
   ]
  },
  {
   "cell_type": "code",
   "execution_count": 6,
   "metadata": {},
   "outputs": [
    {
     "data": {
      "text/plain": [
       "1"
      ]
     },
     "execution_count": 6,
     "metadata": {},
     "output_type": "execute_result"
    }
   ],
   "source": [
    "333 - 332"
   ]
  },
  {
   "cell_type": "code",
   "execution_count": 7,
   "metadata": {},
   "outputs": [
    {
     "data": {
      "text/plain": [
       "90"
      ]
     },
     "execution_count": 7,
     "metadata": {},
     "output_type": "execute_result"
    }
   ],
   "source": [
    "3 * 30"
   ]
  },
  {
   "cell_type": "code",
   "execution_count": 11,
   "metadata": {},
   "outputs": [
    {
     "data": {
      "text/plain": [
       "10.0"
      ]
     },
     "execution_count": 11,
     "metadata": {},
     "output_type": "execute_result"
    }
   ],
   "source": [
    "30 / 3 # note the decimal point: division yields floats"
   ]
  },
  {
   "cell_type": "code",
   "execution_count": 12,
   "metadata": {},
   "outputs": [
    {
     "data": {
      "text/plain": [
       "'hello'"
      ]
     },
     "execution_count": 12,
     "metadata": {},
     "output_type": "execute_result"
    }
   ],
   "source": [
    "# characters between quotes are strings\n",
    "'hello'"
   ]
  },
  {
   "cell_type": "code",
   "execution_count": 13,
   "metadata": {},
   "outputs": [
    {
     "data": {
      "text/plain": [
       "'h3ll0))(*^&#$)'"
      ]
     },
     "execution_count": 13,
     "metadata": {},
     "output_type": "execute_result"
    }
   ],
   "source": [
    "# FYI strings can contain any sort of character, not just letters:\n",
    "'h3ll0))(*^&#$)'"
   ]
  },
  {
   "cell_type": "markdown",
   "metadata": {},
   "source": [
    "# Variables\n",
    "So far, our code isn't that useful because we can't store our output anywhere. That's where variables come in:"
   ]
  },
  {
   "cell_type": "code",
   "execution_count": 15,
   "metadata": {},
   "outputs": [],
   "source": [
    "# we wouldn't want to type this twice!\n",
    "tree = \"\"\"\n",
    "          &&& &&  & &&\n",
    "      && &\\/&\\|& ()|/ @, &&\n",
    "      &\\/(/&/&||/& /_/)_&/_&\n",
    "   &() &\\/&|()|/&\\/ '%\" & ()\n",
    "  &_\\_&&_\\ |& |&&/&__%_/_& &&\n",
    "&&   && & &| &| /& & % ()& /&&\n",
    " ()&_---()&\\&\\|&&-&&--%---()~\n",
    "     &&     \\|||\n",
    "             |||\n",
    "             |||\n",
    "             |||\n",
    "       , -=-~  .-^- _\n",
    "\n",
    "\"\"\""
   ]
  },
  {
   "cell_type": "code",
   "execution_count": 17,
   "metadata": {},
   "outputs": [
    {
     "name": "stdout",
     "output_type": "stream",
     "text": [
      "\n",
      "          &&& &&  & &&\n",
      "      && &\\/&\\|& ()|/ @, &&\n",
      "      &\\/(/&/&||/& /_/)_&/_&\n",
      "   &() &\\/&|()|/&\\/ '%\" & ()\n",
      "  &_\\_&&_\\ |& |&&/&__%_/_& &&\n",
      "&&   && & &| &| /& & % ()& /&&\n",
      " ()&_---()&\\&\\|&&-&&--%---()~\n",
      "     &&     \\|||\n",
      "             |||\n",
      "             |||\n",
      "             |||\n",
      "       , -=-~  .-^- _\n",
      "\n",
      "\n"
     ]
    }
   ],
   "source": [
    "print(tree)"
   ]
  },
  {
   "cell_type": "code",
   "execution_count": 18,
   "metadata": {},
   "outputs": [
    {
     "name": "stdout",
     "output_type": "stream",
     "text": [
      "tree\n"
     ]
    }
   ],
   "source": [
    "print('tree') # note the distinction betweeen variables and strings"
   ]
  },
  {
   "cell_type": "markdown",
   "metadata": {},
   "source": [
    "Some special formatting such as line breaks and tabs can be formatted using the escape character, `\\`"
   ]
  },
  {
   "cell_type": "code",
   "execution_count": 19,
   "metadata": {},
   "outputs": [
    {
     "name": "stdout",
     "output_type": "stream",
     "text": [
      "here is a newline \n",
      " and there is a \t tab\n"
     ]
    }
   ],
   "source": [
    "print('here is a newline \\n and there is a \\t tab')"
   ]
  },
  {
   "cell_type": "markdown",
   "metadata": {},
   "source": [
    "We can assign any object to any variable name.\n",
    "\n",
    "But we need to be careful since variable names can be overwritten:"
   ]
  },
  {
   "cell_type": "code",
   "execution_count": 20,
   "metadata": {},
   "outputs": [],
   "source": [
    "tree = 'a string that says tree'"
   ]
  },
  {
   "cell_type": "code",
   "execution_count": 21,
   "metadata": {},
   "outputs": [
    {
     "data": {
      "text/plain": [
       "'a string that says tree'"
      ]
     },
     "execution_count": 21,
     "metadata": {},
     "output_type": "execute_result"
    }
   ],
   "source": [
    "tree"
   ]
  },
  {
   "cell_type": "code",
   "execution_count": 22,
   "metadata": {},
   "outputs": [],
   "source": [
    "tree = 6"
   ]
  },
  {
   "cell_type": "code",
   "execution_count": 23,
   "metadata": {},
   "outputs": [
    {
     "data": {
      "text/plain": [
       "6"
      ]
     },
     "execution_count": 23,
     "metadata": {},
     "output_type": "execute_result"
    }
   ],
   "source": [
    "tree"
   ]
  },
  {
   "cell_type": "markdown",
   "metadata": {},
   "source": [
    "# Importing texts\n",
    "Now, we're going to import *Moby-Dick* as a string.\n",
    "\n",
    "For that to work, we need to have a *local copy of the file*, which we can make with Python. Run the code below to save a copy of *Moby-Dick* from Project Gutenberg to your `~/Downloads` folder."
   ]
  },
  {
   "cell_type": "code",
   "execution_count": 24,
   "metadata": {},
   "outputs": [
    {
     "name": "stdout",
     "output_type": "stream",
     "text": [
      "Downloaded to: /Users/erik/Downloads/moby.txt\n"
     ]
    }
   ],
   "source": [
    "# imports\n",
    "from pathlib import Path\n",
    "import os\n",
    "import urllib\n",
    "\n",
    "# get your home\n",
    "home = str(Path.home())\n",
    "\n",
    "# create a path to which the file will be written\n",
    "moby_path = os.path.join(home, 'Downloads/moby.txt')\n",
    "\n",
    "# location of the project gutenberg copy of the moby-dick text file\n",
    "moby_url = 'https://www.gutenberg.org/files/2701/2701-0.txt'\n",
    "\n",
    "urllib.request.urlretrieve(moby_url, moby_path)\n",
    "\n",
    "print('Downloaded to:', moby_path)"
   ]
  },
  {
   "cell_type": "markdown",
   "metadata": {},
   "source": [
    "# Opening text files as strings\n",
    "\n",
    "Now you have a file in your `~/Downloads` folder called `moby.txt` containing the Project Gutenberg *Moby-Dick*.\n",
    "\n",
    "We can use Python to open that up as a string."
   ]
  },
  {
   "cell_type": "code",
   "execution_count": 25,
   "metadata": {},
   "outputs": [
    {
     "data": {
      "text/plain": [
       "'/Users/erik/Downloads/moby.txt'"
      ]
     },
     "execution_count": 25,
     "metadata": {},
     "output_type": "execute_result"
    }
   ],
   "source": [
    "# this is where the file is on your computer:\n",
    "moby_path"
   ]
  },
  {
   "cell_type": "markdown",
   "metadata": {},
   "source": [
    "Note that Jupyter automatically indents under the `with`...`as` statement. Indentation has meaning in Python."
   ]
  },
  {
   "cell_type": "code",
   "execution_count": 26,
   "metadata": {},
   "outputs": [],
   "source": [
    "with open(moby_path, encoding = 'utf8') as moby: # UTF-8 is a file encoding. making this explicit can prevent errors\n",
    "    text = moby.read()"
   ]
  },
  {
   "cell_type": "markdown",
   "metadata": {},
   "source": [
    "This will confirm that you indeed have the right file:"
   ]
  },
  {
   "cell_type": "code",
   "execution_count": 28,
   "metadata": {},
   "outputs": [
    {
     "name": "stdout",
     "output_type": "stream",
     "text": [
      "Call me Ishmael. Some years ago—never mind how ...\n"
     ]
    }
   ],
   "source": [
    "print(text[27802:27848], '...')"
   ]
  },
  {
   "cell_type": "markdown",
   "metadata": {},
   "source": [
    "# Slicing texts\n",
    "To get \"Call me Ishamel\" out of the whole *Moby-Dick*, we did something called string *slicing* with the `[x:y]` after `text`.\n",
    "\n",
    "We can do that on any iterable object in Python, and it will return elements in sequence.\n",
    "\n",
    "(Note that Python begins counting from `0`, not `1`. This takes a little getting used to.)\n",
    "\n",
    "## Slicing by word (tokenization)\n",
    "\n",
    "There's a lot more to say about slicing. For today, we're going to focus on splitting the text up *by words*, which is called tokenization. There are a lot of clever ways to tokenize texts, but we're going to use a simple one: `splitting` on spaces:"
   ]
  },
  {
   "cell_type": "code",
   "execution_count": 30,
   "metadata": {},
   "outputs": [],
   "source": [
    "bartleby = 'I would prefer not to.'"
   ]
  },
  {
   "cell_type": "code",
   "execution_count": 32,
   "metadata": {},
   "outputs": [],
   "source": [
    "bart_words = bartleby.split(' ')"
   ]
  },
  {
   "cell_type": "code",
   "execution_count": 33,
   "metadata": {},
   "outputs": [
    {
     "data": {
      "text/plain": [
       "['I', 'would', 'prefer', 'not', 'to.']"
      ]
     },
     "execution_count": 33,
     "metadata": {},
     "output_type": "execute_result"
    }
   ],
   "source": [
    "bart_words"
   ]
  },
  {
   "cell_type": "markdown",
   "metadata": {},
   "source": [
    "While this is ok for now, we could make our tokenizer a *lot* better than this.\n",
    "\n",
    "For example, do we really want to include punctuation marks at the end of words, as in `to.`?\n",
    "\n",
    "One better way to do this is with a package like the [Natural Language Toolkit](https://www.nltk.org/), or `nltk`, which is designed for this problem:"
   ]
  },
  {
   "cell_type": "code",
   "execution_count": 52,
   "metadata": {},
   "outputs": [],
   "source": [
    "import nltk"
   ]
  },
  {
   "cell_type": "markdown",
   "metadata": {},
   "source": [
    "You will need to download the model:"
   ]
  },
  {
   "cell_type": "code",
   "execution_count": 54,
   "metadata": {},
   "outputs": [
    {
     "name": "stderr",
     "output_type": "stream",
     "text": [
      "[nltk_data] Downloading package punkt to /Users/erik/nltk_data...\n",
      "[nltk_data]   Unzipping tokenizers/punkt.zip.\n"
     ]
    },
    {
     "data": {
      "text/plain": [
       "True"
      ]
     },
     "execution_count": 54,
     "metadata": {},
     "output_type": "execute_result"
    }
   ],
   "source": [
    "nltk.download('punkt')"
   ]
  },
  {
   "cell_type": "markdown",
   "metadata": {},
   "source": [
    "This cleans up our problem with `to.`"
   ]
  },
  {
   "cell_type": "code",
   "execution_count": 55,
   "metadata": {},
   "outputs": [
    {
     "data": {
      "text/plain": [
       "['I', 'would', 'prefer', 'not', 'to', '.']"
      ]
     },
     "execution_count": 55,
     "metadata": {},
     "output_type": "execute_result"
    }
   ],
   "source": [
    "nltk.word_tokenize(bartleby)"
   ]
  },
  {
   "cell_type": "markdown",
   "metadata": {},
   "source": [
    "# Lists\n",
    "\n",
    "`bart_words` is a variable containing a `split()` version of `bartleby`. `split()` returns a `list`.\n",
    "\n",
    "`Lists` are Python objects like integers or strings. They are ordered groups of objects separated by commas."
   ]
  },
  {
   "cell_type": "code",
   "execution_count": 142,
   "metadata": {},
   "outputs": [
    {
     "data": {
      "text/plain": [
       "[1, 2, 3]"
      ]
     },
     "execution_count": 142,
     "metadata": {},
     "output_type": "execute_result"
    }
   ],
   "source": [
    "# list of integers\n",
    "[1,2,3]"
   ]
  },
  {
   "cell_type": "code",
   "execution_count": 143,
   "metadata": {},
   "outputs": [
    {
     "data": {
      "text/plain": [
       "['a', 'b', 'c']"
      ]
     },
     "execution_count": 143,
     "metadata": {},
     "output_type": "execute_result"
    }
   ],
   "source": [
    "# list of strings\n",
    "['a','b','c']"
   ]
  },
  {
   "cell_type": "code",
   "execution_count": 35,
   "metadata": {},
   "outputs": [
    {
     "data": {
      "text/plain": [
       "['a', 6, 'c']"
      ]
     },
     "execution_count": 35,
     "metadata": {},
     "output_type": "execute_result"
    }
   ],
   "source": [
    "# lists can contain any object in any combination\n",
    "['a', 2 * 3, 'c']"
   ]
  },
  {
   "cell_type": "code",
   "execution_count": 36,
   "metadata": {},
   "outputs": [
    {
     "data": {
      "text/plain": [
       "[1, 2, [3, 4]]"
      ]
     },
     "execution_count": 36,
     "metadata": {},
     "output_type": "execute_result"
    }
   ],
   "source": [
    "# they can even contain other lists:\n",
    "[1, 2, [3,4]]"
   ]
  },
  {
   "cell_type": "markdown",
   "metadata": {},
   "source": [
    "You can *slice* individual *elements* in lists using `[]` notation:"
   ]
  },
  {
   "cell_type": "code",
   "execution_count": 37,
   "metadata": {},
   "outputs": [
    {
     "data": {
      "text/plain": [
       "'aardvark'"
      ]
     },
     "execution_count": 37,
     "metadata": {},
     "output_type": "execute_result"
    }
   ],
   "source": [
    "['aardvark', 'berry', 'capricorn'][0] # remember Python starts counting from 0"
   ]
  },
  {
   "cell_type": "code",
   "execution_count": 38,
   "metadata": {},
   "outputs": [
    {
     "data": {
      "text/plain": [
       "'berry'"
      ]
     },
     "execution_count": 38,
     "metadata": {},
     "output_type": "execute_result"
    }
   ],
   "source": [
    "['aardvark', 'berry', 'capricorn'][1]"
   ]
  },
  {
   "cell_type": "code",
   "execution_count": 39,
   "metadata": {},
   "outputs": [
    {
     "data": {
      "text/plain": [
       "'capricorn'"
      ]
     },
     "execution_count": 39,
     "metadata": {},
     "output_type": "execute_result"
    }
   ],
   "source": [
    "['aardvark', 'berry', 'capricorn'][2]"
   ]
  },
  {
   "cell_type": "markdown",
   "metadata": {},
   "source": [
    "You can also get multiple elements in sequence by using a `:` between values, as we did to get the beginning of *Moby-Dick*:"
   ]
  },
  {
   "cell_type": "code",
   "execution_count": 40,
   "metadata": {},
   "outputs": [
    {
     "data": {
      "text/plain": [
       "['aardvark', 'berry']"
      ]
     },
     "execution_count": 40,
     "metadata": {},
     "output_type": "execute_result"
    }
   ],
   "source": [
    "['aardvark', 'berry', 'capricorn'][0:2]"
   ]
  },
  {
   "cell_type": "markdown",
   "metadata": {},
   "source": [
    "Note that the second value in an expression like `[0:2]` goes to $n-1$, i.e. \"up to but not including element `2` in the sequence.\""
   ]
  },
  {
   "cell_type": "code",
   "execution_count": 42,
   "metadata": {},
   "outputs": [
    {
     "data": {
      "text/plain": [
       "'capricorn'"
      ]
     },
     "execution_count": 42,
     "metadata": {},
     "output_type": "execute_result"
    }
   ],
   "source": [
    "['aardvark', 'berry', 'capricorn'][2]"
   ]
  },
  {
   "cell_type": "markdown",
   "metadata": {},
   "source": [
    "# Putting it all together\n",
    "So, we now have a way to make a list of words with `split`, and a way to slice texts up into sets of sequential words using our indices `[]`\n",
    "\n",
    "Let's make *Moby-Dick* into a list of tokens:"
   ]
  },
  {
   "cell_type": "code",
   "execution_count": 56,
   "metadata": {},
   "outputs": [],
   "source": [
    "# we named our Moby-Dick variable `text` above\n",
    "moby_toks = nltk.word_tokenize(text)"
   ]
  },
  {
   "cell_type": "markdown",
   "metadata": {},
   "source": [
    "Where is that famous opening sentence?"
   ]
  },
  {
   "cell_type": "code",
   "execution_count": 63,
   "metadata": {},
   "outputs": [
    {
     "data": {
      "text/plain": [
       "['Call', 'me', 'Ishmael']"
      ]
     },
     "execution_count": 63,
     "metadata": {},
     "output_type": "execute_result"
    }
   ],
   "source": [
    "moby_toks[5692:5695]"
   ]
  },
  {
   "cell_type": "markdown",
   "metadata": {},
   "source": [
    "Now, we can put these ideas together in a **loop** to find keywords and their contexts."
   ]
  },
  {
   "cell_type": "markdown",
   "metadata": {},
   "source": [
    "# Loops\n",
    "\n",
    "Computers are dumb. But they're great at doing the same dumb thing many times quickly. Which is why loops are great.\n",
    "\n",
    "There are several types of loops in Python. We're going to start with a `for` loop which performs an action on every element of an iterable in sequence:"
   ]
  },
  {
   "cell_type": "code",
   "execution_count": 64,
   "metadata": {},
   "outputs": [],
   "source": [
    "my_list = ['aardvark', 'berry', 'capricorn']"
   ]
  },
  {
   "cell_type": "code",
   "execution_count": 65,
   "metadata": {},
   "outputs": [
    {
     "data": {
      "text/plain": [
       "['aardvark', 'berry', 'capricorn']"
      ]
     },
     "execution_count": 65,
     "metadata": {},
     "output_type": "execute_result"
    }
   ],
   "source": [
    "my_list"
   ]
  },
  {
   "cell_type": "code",
   "execution_count": 68,
   "metadata": {},
   "outputs": [
    {
     "name": "stdout",
     "output_type": "stream",
     "text": [
      "I love aardvark\n",
      "I love berry\n",
      "I love capricorn\n"
     ]
    }
   ],
   "source": [
    "for word in my_list:\n",
    "    print('I love', word)"
   ]
  },
  {
   "cell_type": "code",
   "execution_count": 70,
   "metadata": {},
   "outputs": [
    {
     "name": "stdout",
     "output_type": "stream",
     "text": [
      "0.06060606060606061\n",
      "0.18181818181818182\n",
      "24.181818181818183\n"
     ]
    }
   ],
   "source": [
    "for x in [6,18,2394]:\n",
    "    print(x / 99)"
   ]
  },
  {
   "cell_type": "markdown",
   "metadata": {},
   "source": [
    "The general form of the `for` loop is as follows:\n",
    "```python\n",
    "for element in my_iterable:\n",
    "    # do something to each element\n",
    "```\n",
    "Python has a handy function called `enumerate()` for getting the indices of an iterable object as we go. We use that like this:\n",
    "\n",
    "```python\n",
    "for index, element in enumerate(my_iterable):\n",
    "    # do something with the element and/or its index\n",
    "```\n",
    "\n",
    "Let's apply that structure to our list above:"
   ]
  },
  {
   "cell_type": "code",
   "execution_count": 72,
   "metadata": {},
   "outputs": [
    {
     "name": "stdout",
     "output_type": "stream",
     "text": [
      "aardvark is at index \t 0\n",
      "berry is at index \t 1\n",
      "capricorn is at index \t 2\n"
     ]
    }
   ],
   "source": [
    "for index, word in enumerate(my_list):\n",
    "    print(word, 'is at index \\t', index) #\\t is the equivalent of tab"
   ]
  },
  {
   "cell_type": "code",
   "execution_count": 73,
   "metadata": {},
   "outputs": [
    {
     "data": {
      "text/plain": [
       "'capricorn'"
      ]
     },
     "execution_count": 73,
     "metadata": {},
     "output_type": "execute_result"
    }
   ],
   "source": [
    "# note that these indices are the same as the ones we get with [] notation:\n",
    "my_list[2]"
   ]
  },
  {
   "cell_type": "markdown",
   "metadata": {},
   "source": [
    "With a `for` loop, we can check every word in *Moby-Dick* to see which indices correspond to our keyword."
   ]
  },
  {
   "cell_type": "markdown",
   "metadata": {},
   "source": [
    "# Testing words with Boolean logic\n",
    "\n",
    "We're going to check to see if each word is the same as our search term. To do that, we need to use Boolean logic, which returns the value `True` or `False` depending on the result of a query:"
   ]
  },
  {
   "cell_type": "markdown",
   "metadata": {},
   "source": [
    "`==` tests to see if two objects are equivalent:"
   ]
  },
  {
   "cell_type": "code",
   "execution_count": 74,
   "metadata": {},
   "outputs": [
    {
     "data": {
      "text/plain": [
       "False"
      ]
     },
     "execution_count": 74,
     "metadata": {},
     "output_type": "execute_result"
    }
   ],
   "source": [
    "'a' == 'b'"
   ]
  },
  {
   "cell_type": "markdown",
   "metadata": {},
   "source": [
    "`True` and `False` are reserved words in Python with special meanings. We'll use them to decide `if` we should act on a particular word."
   ]
  },
  {
   "cell_type": "code",
   "execution_count": 75,
   "metadata": {},
   "outputs": [
    {
     "data": {
      "text/plain": [
       "False"
      ]
     },
     "execution_count": 75,
     "metadata": {},
     "output_type": "execute_result"
    }
   ],
   "source": [
    "'a' == 'A'"
   ]
  },
  {
   "cell_type": "code",
   "execution_count": 76,
   "metadata": {},
   "outputs": [
    {
     "data": {
      "text/plain": [
       "True"
      ]
     },
     "execution_count": 76,
     "metadata": {},
     "output_type": "execute_result"
    }
   ],
   "source": [
    "'a' == 'a'"
   ]
  },
  {
   "cell_type": "code",
   "execution_count": 77,
   "metadata": {},
   "outputs": [
    {
     "data": {
      "text/plain": [
       "True"
      ]
     },
     "execution_count": 77,
     "metadata": {},
     "output_type": "execute_result"
    }
   ],
   "source": [
    "'Ahab' == 'Ahab'"
   ]
  },
  {
   "cell_type": "markdown",
   "metadata": {},
   "source": [
    "There are many other Booleans in Python, but `==` is the only one we'll be using for now.\n",
    "\n",
    "## Conditionals\n",
    "\n",
    "Booleans allow us to take specific actions `if` certain conditions are `True`:"
   ]
  },
  {
   "cell_type": "code",
   "execution_count": 81,
   "metadata": {},
   "outputs": [],
   "source": [
    "today = 'Friday'"
   ]
  },
  {
   "cell_type": "code",
   "execution_count": 82,
   "metadata": {},
   "outputs": [
    {
     "data": {
      "text/plain": [
       "True"
      ]
     },
     "execution_count": 82,
     "metadata": {},
     "output_type": "execute_result"
    }
   ],
   "source": [
    "today == 'Friday' #== checks for equivalence"
   ]
  },
  {
   "cell_type": "code",
   "execution_count": 84,
   "metadata": {},
   "outputs": [
    {
     "name": "stdout",
     "output_type": "stream",
     "text": [
      "TGIF\n"
     ]
    }
   ],
   "source": [
    "if today == 'Friday':\n",
    "    print('TGIF')"
   ]
  },
  {
   "cell_type": "markdown",
   "metadata": {},
   "source": [
    "Just like a `for` loop, we indent under an `if` statement. (Jupyter Lab handles this for you.)"
   ]
  },
  {
   "cell_type": "markdown",
   "metadata": {},
   "source": [
    "If a condition is `False` and you don't tell it to do anything else, Python does nothing:"
   ]
  },
  {
   "cell_type": "code",
   "execution_count": 85,
   "metadata": {},
   "outputs": [],
   "source": [
    "today = 'Thursday'"
   ]
  },
  {
   "cell_type": "code",
   "execution_count": 86,
   "metadata": {},
   "outputs": [
    {
     "data": {
      "text/plain": [
       "False"
      ]
     },
     "execution_count": 86,
     "metadata": {},
     "output_type": "execute_result"
    }
   ],
   "source": [
    "today == 'Friday'"
   ]
  },
  {
   "cell_type": "code",
   "execution_count": 87,
   "metadata": {},
   "outputs": [],
   "source": [
    "# this does nothing because the condition returns False\n",
    "if today == 'Friday':\n",
    "    print('TGIF')"
   ]
  },
  {
   "cell_type": "markdown",
   "metadata": {},
   "source": [
    "## Using a `for` loop, Booleans, and `if` to check our words\n",
    "This loop prints *every* index in *Moby-Dick* that is exactly the same as the string `'Ahab'`:"
   ]
  },
  {
   "cell_type": "code",
   "execution_count": 92,
   "metadata": {},
   "outputs": [
    {
     "name": "stdout",
     "output_type": "stream",
     "text": [
      "The word Ahab appears at index number 311\n",
      "The word Ahab appears at index number 317\n",
      "The word Ahab appears at index number 447\n",
      "The word Ahab appears at index number 902\n",
      "The word Ahab appears at index number 916\n",
      "The word Ahab appears at index number 924\n"
     ]
    }
   ],
   "source": [
    "for index, word in enumerate(moby_toks[:1000]): # note that we are only checking the first 1,000 words\n",
    "    if word == 'Ahab':\n",
    "        print('The word Ahab appears at index number', index)"
   ]
  },
  {
   "cell_type": "markdown",
   "metadata": {},
   "source": [
    "## `appending` our results to lists\n",
    "It's not helpful to just `print` these. Instead, we're going to collect each of these indices in a new list using the `append` method, which adds the element you pass it to the end of an existing list:"
   ]
  },
  {
   "cell_type": "code",
   "execution_count": 101,
   "metadata": {},
   "outputs": [],
   "source": [
    "# initializing an empty list with []\n",
    "new_list = []"
   ]
  },
  {
   "cell_type": "code",
   "execution_count": 102,
   "metadata": {},
   "outputs": [
    {
     "data": {
      "text/plain": [
       "[]"
      ]
     },
     "execution_count": 102,
     "metadata": {},
     "output_type": "execute_result"
    }
   ],
   "source": [
    "# empty list\n",
    "new_list"
   ]
  },
  {
   "cell_type": "code",
   "execution_count": 103,
   "metadata": {},
   "outputs": [],
   "source": [
    "new_list.append('a')"
   ]
  },
  {
   "cell_type": "code",
   "execution_count": 104,
   "metadata": {},
   "outputs": [
    {
     "data": {
      "text/plain": [
       "['a']"
      ]
     },
     "execution_count": 104,
     "metadata": {},
     "output_type": "execute_result"
    }
   ],
   "source": [
    "# no longer empty!\n",
    "new_list"
   ]
  },
  {
   "cell_type": "code",
   "execution_count": 105,
   "metadata": {},
   "outputs": [],
   "source": [
    "# append updates the list in place:\n",
    "new_list.append('b')"
   ]
  },
  {
   "cell_type": "code",
   "execution_count": 106,
   "metadata": {},
   "outputs": [
    {
     "data": {
      "text/plain": [
       "['a', 'b']"
      ]
     },
     "execution_count": 106,
     "metadata": {},
     "output_type": "execute_result"
    }
   ],
   "source": [
    "new_list"
   ]
  },
  {
   "cell_type": "markdown",
   "metadata": {},
   "source": [
    "## `append` in a `for` loop\n",
    "Using the same logic, we can `append` all of those Ahab locations we used `print()` to see before:"
   ]
  },
  {
   "cell_type": "code",
   "execution_count": 107,
   "metadata": {},
   "outputs": [],
   "source": [
    "ahabs = []\n",
    "\n",
    "for index, word in enumerate(moby_toks):\n",
    "    if word == 'Ahab':\n",
    "        ahabs.append(index)"
   ]
  },
  {
   "cell_type": "code",
   "execution_count": 109,
   "metadata": {},
   "outputs": [
    {
     "data": {
      "text/plain": [
       "[311, 317, 447, 902, 916, 924, 36672, 36679, 36694, 36819]"
      ]
     },
     "execution_count": 109,
     "metadata": {},
     "output_type": "execute_result"
    }
   ],
   "source": [
    "# just looking at the first 10 indices\n",
    "ahabs[:10]"
   ]
  },
  {
   "cell_type": "markdown",
   "metadata": {},
   "source": [
    "# From indices to contexts\n",
    "Now that we have our indices, we can collect their contexts using the same logic.\n",
    "\n",
    "Let's start by looking at one context for the first instance of `Ahab`:"
   ]
  },
  {
   "cell_type": "code",
   "execution_count": 112,
   "metadata": {},
   "outputs": [
    {
     "data": {
      "text/plain": [
       "311"
      ]
     },
     "execution_count": 112,
     "metadata": {},
     "output_type": "execute_result"
    }
   ],
   "source": [
    "ahabs[0]"
   ]
  },
  {
   "cell_type": "code",
   "execution_count": 113,
   "metadata": {},
   "outputs": [
    {
     "data": {
      "text/plain": [
       "'Ahab'"
      ]
     },
     "execution_count": 113,
     "metadata": {},
     "output_type": "execute_result"
    }
   ],
   "source": [
    "moby_toks[311]"
   ]
  },
  {
   "cell_type": "code",
   "execution_count": 114,
   "metadata": {},
   "outputs": [
    {
     "data": {
      "text/plain": [
       "['CHAPTER',\n",
       " '27',\n",
       " '.',\n",
       " 'Knights',\n",
       " 'and',\n",
       " 'Squires',\n",
       " '.',\n",
       " 'CHAPTER',\n",
       " '28',\n",
       " '.',\n",
       " 'Ahab',\n",
       " '.',\n",
       " 'CHAPTER',\n",
       " '29',\n",
       " '.',\n",
       " 'Enter',\n",
       " 'Ahab',\n",
       " ';',\n",
       " 'to',\n",
       " 'Him']"
      ]
     },
     "execution_count": 114,
     "metadata": {},
     "output_type": "execute_result"
    }
   ],
   "source": [
    "moby_toks[301:321] # +/- 10 words as context"
   ]
  },
  {
   "cell_type": "markdown",
   "metadata": {},
   "source": [
    "The first instance appears to be in the Table of Contents.\n",
    "\n",
    "We're going to use `append` to gather up our results in a list of lists:"
   ]
  },
  {
   "cell_type": "code",
   "execution_count": 115,
   "metadata": {},
   "outputs": [],
   "source": [
    "ahab_contexts = []\n",
    "\n",
    "for index in ahabs:\n",
    "    context = moby_toks[index - 10:index + 10] # this is looking to the 10 words before and after the index\n",
    "    ahab_contexts.append(context)"
   ]
  },
  {
   "cell_type": "code",
   "execution_count": 118,
   "metadata": {},
   "outputs": [
    {
     "data": {
      "text/plain": [
       "[['and',\n",
       "  'his',\n",
       "  'whole',\n",
       "  'captive',\n",
       "  'form',\n",
       "  'folded',\n",
       "  'in',\n",
       "  'the',\n",
       "  'flag',\n",
       "  'of',\n",
       "  'Ahab',\n",
       "  ',',\n",
       "  'went',\n",
       "  'down',\n",
       "  'with',\n",
       "  'his',\n",
       "  'ship',\n",
       "  ',',\n",
       "  'which',\n",
       "  ','],\n",
       " ['he',\n",
       "  'whom',\n",
       "  'the',\n",
       "  'Fates',\n",
       "  'ordained',\n",
       "  'to',\n",
       "  'take',\n",
       "  'the',\n",
       "  'place',\n",
       "  'of',\n",
       "  'Ahab',\n",
       "  '’',\n",
       "  's',\n",
       "  'bowsman',\n",
       "  ',',\n",
       "  'when',\n",
       "  'that',\n",
       "  'bowsman',\n",
       "  'assumed',\n",
       "  'the']]"
      ]
     },
     "execution_count": 118,
     "metadata": {},
     "output_type": "execute_result"
    }
   ],
   "source": [
    "# let's see the last two contexts (spoilers)\n",
    "ahab_contexts[-2:]"
   ]
  },
  {
   "cell_type": "markdown",
   "metadata": {},
   "source": [
    "Great! We have a list of contexts based on the keyword `Ahab` from across all of *Moby-Dick*."
   ]
  },
  {
   "cell_type": "markdown",
   "metadata": {},
   "source": [
    "# Filtering our contexts\n",
    "\n",
    "So far, we have basically recreated `ctrl/cmd + F`.\n",
    "\n",
    "Now we're going to upgrade it. We'll check each of these contexts for a **second** word. This will allow us to see how often \"Ahab\" and any other word co-occur within $n$ words.\n",
    "\n",
    "One other operation that would be helpful for this is the Boolean operator `in`, which checks to see if an element appears in an iterable. For instance:"
   ]
  },
  {
   "cell_type": "code",
   "execution_count": 119,
   "metadata": {},
   "outputs": [
    {
     "data": {
      "text/plain": [
       "True"
      ]
     },
     "execution_count": 119,
     "metadata": {},
     "output_type": "execute_result"
    }
   ],
   "source": [
    "'a' in ['a','b','c']"
   ]
  },
  {
   "cell_type": "code",
   "execution_count": 120,
   "metadata": {},
   "outputs": [
    {
     "data": {
      "text/plain": [
       "False"
      ]
     },
     "execution_count": 120,
     "metadata": {},
     "output_type": "execute_result"
    }
   ],
   "source": [
    "'d' in ['a','b','c']"
   ]
  },
  {
   "cell_type": "code",
   "execution_count": 121,
   "metadata": {},
   "outputs": [
    {
     "data": {
      "text/plain": [
       "False"
      ]
     },
     "execution_count": 121,
     "metadata": {},
     "output_type": "execute_result"
    }
   ],
   "source": [
    "# note that there must be an exact match to return True\n",
    "'a' in ['aa','aaa','aaaa']"
   ]
  },
  {
   "cell_type": "markdown",
   "metadata": {},
   "source": [
    "So, applying that `in` logic to what we have, we can see every context that contains both words:"
   ]
  },
  {
   "cell_type": "code",
   "execution_count": 122,
   "metadata": {},
   "outputs": [],
   "source": [
    "ahab_whale = [] # list to store co-occurrences of Ahab with whale\n",
    "\n",
    "for context in ahab_contexts:\n",
    "    if 'whale' in context:\n",
    "        ahab_whale.append(context)"
   ]
  },
  {
   "cell_type": "markdown",
   "metadata": {},
   "source": [
    "How often do they co-occur? We can use `len()` to measure the number of items in a list:"
   ]
  },
  {
   "cell_type": "code",
   "execution_count": 125,
   "metadata": {},
   "outputs": [
    {
     "data": {
      "text/plain": [
       "3"
      ]
     },
     "execution_count": 125,
     "metadata": {},
     "output_type": "execute_result"
    }
   ],
   "source": [
    "len([1, 2, 3])"
   ]
  },
  {
   "cell_type": "code",
   "execution_count": 126,
   "metadata": {},
   "outputs": [
    {
     "data": {
      "text/plain": [
       "24"
      ]
     },
     "execution_count": 126,
     "metadata": {},
     "output_type": "execute_result"
    }
   ],
   "source": [
    "# Ahab and Whale co-occur 24 times\n",
    "len(ahab_whale)"
   ]
  },
  {
   "cell_type": "code",
   "execution_count": 127,
   "metadata": {},
   "outputs": [
    {
     "data": {
      "text/plain": [
       "['their',\n",
       " 'own',\n",
       " 'peculiar',\n",
       " 'quarters',\n",
       " '.',\n",
       " 'In',\n",
       " 'this',\n",
       " 'one',\n",
       " 'matter',\n",
       " ',',\n",
       " 'Ahab',\n",
       " 'seemed',\n",
       " 'no',\n",
       " 'exception',\n",
       " 'to',\n",
       " 'most',\n",
       " 'American',\n",
       " 'whale',\n",
       " 'captains',\n",
       " ',']"
      ]
     },
     "execution_count": 127,
     "metadata": {},
     "output_type": "execute_result"
    }
   ],
   "source": [
    "# the first time\n",
    "ahab_whale[0]"
   ]
  },
  {
   "cell_type": "markdown",
   "metadata": {},
   "source": [
    "## Making lists of words readable with `join()`\n",
    "That is what we're looking for, but it's a little hard to read. Let's clean it up.\n",
    "\n",
    "You use `join` like this:\n",
    "\n",
    "```python\n",
    "' '.join(my_list)\n",
    "```\n",
    "\n",
    "So, if you want to recombine each list element with a single space between each, you would write:"
   ]
  },
  {
   "cell_type": "code",
   "execution_count": 128,
   "metadata": {},
   "outputs": [
    {
     "data": {
      "text/plain": [
       "'their own peculiar quarters . In this one matter , Ahab seemed no exception to most American whale captains ,'"
      ]
     },
     "execution_count": 128,
     "metadata": {},
     "output_type": "execute_result"
    }
   ],
   "source": [
    "' '.join(ahab_whale[0])"
   ]
  },
  {
   "cell_type": "markdown",
   "metadata": {},
   "source": [
    "# Abstracting out to functions\n",
    "\n",
    "We know how to make this work for one instance, `Ahab` and `whale`.\n",
    "\n",
    "Now, we just need to abstract it so that we can use it for *any* two words, and any amount of context. This will let us produce tons of results quickly.\n",
    "\n",
    "In Python, we abstract things to make them reusable with *functions*. The general form of a function is as follows:\n",
    "\n",
    "```python\n",
    "def my_function(my_object):\n",
    "    # do something\n",
    "    return my_value\n",
    "```\n",
    "\n",
    "So for example:"
   ]
  },
  {
   "cell_type": "code",
   "execution_count": 129,
   "metadata": {},
   "outputs": [],
   "source": [
    "def subtract_three(integer):\n",
    "    value = integer - 3\n",
    "    return value"
   ]
  },
  {
   "cell_type": "markdown",
   "metadata": {},
   "source": [
    "I can run my new function just like any other:"
   ]
  },
  {
   "cell_type": "code",
   "execution_count": 131,
   "metadata": {},
   "outputs": [
    {
     "data": {
      "text/plain": [
       "330"
      ]
     },
     "execution_count": 131,
     "metadata": {},
     "output_type": "execute_result"
    }
   ],
   "source": [
    "subtract_three(333)"
   ]
  },
  {
   "cell_type": "markdown",
   "metadata": {},
   "source": [
    "# `improved_find`\n",
    "We can apply the same logic to each of the steps we took above to create a few functions that comprise our upgraded search function.\n",
    "\n",
    "I'm putting each of the pieces we did above into functions, and then calling them in sequence with a wrapper function."
   ]
  },
  {
   "cell_type": "code",
   "execution_count": 153,
   "metadata": {},
   "outputs": [],
   "source": [
    "def make_tokens(text_path):\n",
    "    import nltk\n",
    "    \n",
    "    with open(text_path, encoding = 'utf8') as f:\n",
    "        text = f.read()\n",
    "    \n",
    "    my_tokens = nltk.word_tokenize(text)\n",
    "    \n",
    "    return my_tokens"
   ]
  },
  {
   "cell_type": "code",
   "execution_count": 154,
   "metadata": {},
   "outputs": [],
   "source": [
    "def get_indices(my_tokens, my_word):\n",
    "    indices = []\n",
    "    \n",
    "    for index, word in enumerate(my_tokens):\n",
    "        if word == my_word:\n",
    "            indices.append(index)\n",
    "            \n",
    "    return indices"
   ]
  },
  {
   "cell_type": "code",
   "execution_count": 155,
   "metadata": {},
   "outputs": [],
   "source": [
    "def get_contexts(my_indices, my_tokens, window):\n",
    "    contexts = []\n",
    "    for index in my_indices:\n",
    "        context = my_tokens[index - window:index + window + 1]\n",
    "        contexts.append(context)\n",
    "    \n",
    "    return contexts"
   ]
  },
  {
   "cell_type": "code",
   "execution_count": 156,
   "metadata": {},
   "outputs": [],
   "source": [
    "def subset_contexts(my_contexts, next_word):\n",
    "    results = []\n",
    "    for context in my_contexts:\n",
    "        if next_word in context:\n",
    "            results.append(context)\n",
    "    \n",
    "    clean_results = []\n",
    "    for result in results:\n",
    "        cleaned = ' '.join(result)\n",
    "        clean_results.append(cleaned)\n",
    "    \n",
    "    return clean_results"
   ]
  },
  {
   "cell_type": "code",
   "execution_count": 157,
   "metadata": {},
   "outputs": [],
   "source": [
    "def improved_find(text_path, word_1, word_2, window):\n",
    "    '''This function takes a text path and user-defined parameters.\n",
    "    It returns a list of strings where the target words co-occur within the text.'''\n",
    "    tokens = make_tokens(text_path)\n",
    "    indices = get_indices(tokens, word_1)\n",
    "    contexts = get_contexts(indices, tokens, window)\n",
    "    results = subset_contexts(contexts, word_2)\n",
    "    \n",
    "    print(f'{word_1} and {word_2} co-occur {len(results)} times.')\n",
    "    print('*' * 80)\n",
    "    \n",
    "    for result in results:\n",
    "        print(result)\n",
    "        print('-' * 80)"
   ]
  },
  {
   "cell_type": "markdown",
   "metadata": {},
   "source": [
    "`improved_find` calls all of the above functions in order, and `prints` a nice result:"
   ]
  },
  {
   "cell_type": "code",
   "execution_count": 158,
   "metadata": {},
   "outputs": [
    {
     "name": "stdout",
     "output_type": "stream",
     "text": [
      "Ahab and whale co-occur 24 times.\n",
      "********************************************************************************\n",
      "their own peculiar quarters . In this one matter , Ahab seemed no exception to most American whale captains , who\n",
      "--------------------------------------------------------------------------------\n",
      "s a white whale , I say , ” resumed Ahab , as he threw down the topmaul : “ a\n",
      "--------------------------------------------------------------------------------\n",
      "was separately touched by some specific recollection . “ Captain Ahab , ” said Tashtego , “ that white whale must\n",
      "--------------------------------------------------------------------------------\n",
      "call Moby Dick. ” “ Moby Dick ? ” shouted Ahab . “ Do ye know the white whale then ,\n",
      "--------------------------------------------------------------------------------\n",
      "the crew ! Are they not one and all with Ahab , in this matter of the whale ? See Stubb\n",
      "--------------------------------------------------------------------------------\n",
      "In that way , mostly , the disastrous encounter between Ahab and the whale had hitherto been popularly regarded . And\n",
      "--------------------------------------------------------------------------------\n",
      "the fathom-deep life of the whale . That captain was Ahab . And then it was , that suddenly sweeping his\n",
      "--------------------------------------------------------------------------------\n",
      "then , that ever since that almost fatal encounter , Ahab had cherished a wild vindictiveness against the whale , all\n",
      "--------------------------------------------------------------------------------\n",
      "of the Whale . What the white whale was to Ahab , has been hinted ; what , at times ,\n",
      "--------------------------------------------------------------------------------\n",
      "unmistakable . And have I not tallied the whale , Ahab would mutter to himself , as after poring over his\n",
      "--------------------------------------------------------------------------------\n",
      ", unappeasedly steadfast hunter of the white whale ; this Ahab that had gone to his hammock , was not the\n",
      "--------------------------------------------------------------------------------\n",
      "the whale . With a start all glared at dark Ahab , who was surrounded by five dusky phantoms that seemed\n",
      "--------------------------------------------------------------------------------\n",
      ", in overseeing the pursuit of this whale , Captain Ahab had evinced his customary activity , to call it so\n",
      "--------------------------------------------------------------------------------\n",
      "Soothed again , but only soothed to deeper gloom , Ahab , who had sterned off from the whale , sat\n",
      "--------------------------------------------------------------------------------\n",
      "whale myself , ” —he said . “ Aye ! Ahab must have the doubloon ! ” and with his own\n",
      "--------------------------------------------------------------------------------\n",
      "the famous whale they had so long been pursuing . Ahab had now gained his final perch , some feet above\n",
      "--------------------------------------------------------------------------------\n",
      "Indian ’ s head was almost on a level with Ahab ’ s heel . From this height the whale was\n",
      "--------------------------------------------------------------------------------\n",
      "preluding moment , ere the boat was yet snapped , Ahab , the first to perceive the whale ’ s intent\n",
      "--------------------------------------------------------------------------------\n",
      "’ s elephants in the book of Maccabees . Meanwhile Ahab half smothered in the foam of the whale ’ s\n",
      "--------------------------------------------------------------------------------\n",
      ". “ D ’ ye see him ? ” cried Ahab ; but the whale was not yet in sight .\n",
      "--------------------------------------------------------------------------------\n",
      "by a signal from the mast-heads—a downward pointed arm , Ahab knew that the whale had sounded ; but intending to\n",
      "--------------------------------------------------------------------------------\n",
      "of the whale . “ Give way ! ” cried Ahab to the oarsmen , and the boats darted forward to\n",
      "--------------------------------------------------------------------------------\n",
      "these sharks swim to feast on the whale or on Ahab ? —But pull on ! Aye , all alive ,\n",
      "--------------------------------------------------------------------------------\n",
      "seemed strangely oblivious of its advance—as the whale sometimes will—and Ahab was fairly within the smoky mountain mist , which ,\n",
      "--------------------------------------------------------------------------------\n"
     ]
    }
   ],
   "source": [
    "improved_find(moby_path, 'Ahab', 'whale', 10)"
   ]
  },
  {
   "cell_type": "markdown",
   "metadata": {},
   "source": [
    "# Challenges for today\n",
    "\n",
    "## 1. Apply to a text of your choosing\n",
    "\n",
    "Use the `improved_find` function to look for related words in a text of your choosing.\n",
    "\n",
    "You need to get a copy of your text in plain-text format (i.e. `.txt` or similar)."
   ]
  },
  {
   "cell_type": "markdown",
   "metadata": {},
   "source": [
    "## 2. Explanatory comments\n",
    "When learning to program, it can be good practice to write comments that explain what each line and each element of a program does in order to make sure that you understand how it works. To take our example from above:"
   ]
  },
  {
   "cell_type": "code",
   "execution_count": 159,
   "metadata": {},
   "outputs": [],
   "source": [
    "def subtract_three(integer): # declare new function subtract_three that takes one argument, integer\n",
    "    value = integer - 3 # create a new variable, value, that contains the variable integer minus three\n",
    "    return value # return the variable value to standard out"
   ]
  },
  {
   "cell_type": "markdown",
   "metadata": {},
   "source": [
    "Using our remaining time, comment each line of the `improved_find` function, and the other functions on which it depends."
   ]
  },
  {
   "cell_type": "markdown",
   "metadata": {},
   "source": [
    "## 3. Improve `improved_find`\n",
    "\n",
    "We could improve this search method in several ways:\n",
    "\n",
    "- Improve the tokenization process to account for punctuation differently.\n",
    "- Adjust the functions to make it possible to search for *multiple* words in proximity to the target word\n",
    "- Add either/or logic, i.e. \"Ahab `or` Queequeg within 10 words of whale.\"\n",
    "- Added efficiency: It would be possible to write this program more efficiently, using fewer functions and system resources. How could we do that? One obvious way to start would be to prevent the program from re-tokenizing the source text *every time it runs*."
   ]
  },
  {
   "cell_type": "markdown",
   "metadata": {},
   "source": [
    "# Pro Tip: Jupyter Shortcuts\n",
    "You can use keyboard shortcuts to control a lot of different parts of the Jupyter notebook. They are much faster than using the cursor. Memorizing a few will save you a lot of time!\n",
    "\n",
    "| command | description |\n",
    "|----------|-----------------------|\n",
    "`enter` | enter edit mode for the selected cell\n",
    "`esc`|exit edit mode for the selected cell\n",
    "`shift + enter`|execute the code inside of the cell\n",
    "`a`|insert a new cell above your current cell\n",
    "`b`|insert a new cell below your current cell\n",
    "`j`|move down one cell\n",
    "`k`|move up one cell\n",
    "`dd`|delete the selected cell"
   ]
  }
 ],
 "metadata": {
  "kernelspec": {
   "display_name": "Python 3",
   "language": "python",
   "name": "python3"
  },
  "language_info": {
   "codemirror_mode": {
    "name": "ipython",
    "version": 3
   },
   "file_extension": ".py",
   "mimetype": "text/x-python",
   "name": "python",
   "nbconvert_exporter": "python",
   "pygments_lexer": "ipython3",
   "version": "3.8.5-final"
  }
 },
 "nbformat": 4,
 "nbformat_minor": 4
}
