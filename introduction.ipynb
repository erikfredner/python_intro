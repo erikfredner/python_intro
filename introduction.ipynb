{
 "cells": [
  {
   "cell_type": "markdown",
   "metadata": {},
   "source": [
    "# Welcome to Python!\n",
    "\n",
    "This notebook aims to get you familiar with essential aspects of the [Python](https://www.python.org) language. Anaconda is a *distribution* of Python widely used in data science that comes with many useful packages preinstalled. Jupyter Lab, which you're using right now, is one such package.\n",
    "\n",
    "Python is great for a lot of different tasks in computational literary studies. Combined with the `pandas` package for tabular data, it can be used to do just about anything that you would use the R language for. But, especially for people who haven't written code before, Python is generally much easier than R.\n",
    "\n",
    "# Learn by doing: upgrading text search\n",
    "One of the best ways to learn to program is by trying to figure out particular problems. So, today we're going to create an upgraded version of the `cmd/ctrl + F` search to find sets of words within user-defined proximity of one another. That is, we'll be able to find not only our target word (e.g. \"whale\") but also where it co-occurs with another target word (e.g. \"Ahab\").\n",
    "\n",
    "This is one type of keywords in context analysis, where a \"contex\" is ususally defined as a fixed number of words or sentences surrounding our target word(s).\n",
    "\n",
    "## What we learn along the way\n",
    "\n",
    "To do the above, we'll learn many of the key ideas in Python:\n",
    "\n",
    "- strings\n",
    "- integers\n",
    "- variables\n",
    "- reading files\n",
    "- lists\n",
    "- indexing\n",
    "- Booleans\n",
    "- `for` loops\n",
    "- functions\n",
    "\n",
    "I briefly introduce each of these, and demonstrate how they can be applied in this case.\n",
    "\n",
    "# First steps: `hello world`\n",
    "Of course, we have to start somewhere.\n",
    "\n",
    "Traditionally, the first program you write prints the phrase `hello world` to standard output. In Python, we write that this way:\n",
    "```python\n",
    "print('hello world')\n",
    "```\n",
    "In Jupyter Lab, we execute Python commands in code cells, like the one below. The output of each cell is printed immediately below."
   ]
  },
  {
   "cell_type": "code",
   "execution_count": 95,
   "metadata": {},
   "outputs": [
    {
     "name": "stdout",
     "output_type": "stream",
     "text": [
      "hello world\n"
     ]
    }
   ],
   "source": [
    "print('hello world')"
   ]
  },
  {
   "cell_type": "markdown",
   "metadata": {},
   "source": [
    "This statement is comprised of two parts: the function `print()` and the string `'hello world'`, which we pass as an argument to `print()`.\n",
    "\n",
    "The text that appears below the `print()` command is the *output*."
   ]
  },
  {
   "cell_type": "markdown",
   "metadata": {},
   "source": [
    "# Python Basics"
   ]
  },
  {
   "cell_type": "code",
   "execution_count": 96,
   "metadata": {},
   "outputs": [],
   "source": [
    "# Lines that begin with # are comments. The computer won't attempt to execute anything here. It's for us humans."
   ]
  },
  {
   "cell_type": "code",
   "execution_count": 97,
   "metadata": {},
   "outputs": [
    {
     "data": {
      "text/plain": [
       "100"
      ]
     },
     "execution_count": 97,
     "metadata": {},
     "output_type": "execute_result"
    }
   ],
   "source": [
    "# We use write numbers as you might expect\n",
    "100"
   ]
  },
  {
   "cell_type": "code",
   "execution_count": 98,
   "metadata": {},
   "outputs": [
    {
     "data": {
      "text/plain": [
       "300"
      ]
     },
     "execution_count": 98,
     "metadata": {},
     "output_type": "execute_result"
    }
   ],
   "source": [
    "# Ditto for arithmetic\n",
    "100 + 200"
   ]
  },
  {
   "cell_type": "code",
   "execution_count": 99,
   "metadata": {},
   "outputs": [
    {
     "data": {
      "text/plain": [
       "1"
      ]
     },
     "execution_count": 99,
     "metadata": {},
     "output_type": "execute_result"
    }
   ],
   "source": [
    "333 - 332"
   ]
  },
  {
   "cell_type": "code",
   "execution_count": 100,
   "metadata": {},
   "outputs": [
    {
     "data": {
      "text/plain": [
       "90"
      ]
     },
     "execution_count": 100,
     "metadata": {},
     "output_type": "execute_result"
    }
   ],
   "source": [
    "3 * 30"
   ]
  },
  {
   "cell_type": "code",
   "execution_count": 101,
   "metadata": {},
   "outputs": [
    {
     "data": {
      "text/plain": [
       "10.0"
      ]
     },
     "execution_count": 101,
     "metadata": {},
     "output_type": "execute_result"
    }
   ],
   "source": [
    "30 / 3"
   ]
  },
  {
   "cell_type": "code",
   "execution_count": 8,
   "metadata": {},
   "outputs": [
    {
     "data": {
      "text/plain": [
       "'hello'"
      ]
     },
     "execution_count": 8,
     "metadata": {},
     "output_type": "execute_result"
    }
   ],
   "source": [
    "# characters between quotes are strings\n",
    "'hello'"
   ]
  },
  {
   "cell_type": "code",
   "execution_count": 9,
   "metadata": {},
   "outputs": [
    {
     "data": {
      "text/plain": [
       "'h3ll0))(*^&#$)'"
      ]
     },
     "execution_count": 9,
     "metadata": {},
     "output_type": "execute_result"
    }
   ],
   "source": [
    "# FYI strings can contain any sort of character, not just letters:\n",
    "'h3ll0))(*^&#$)'"
   ]
  },
  {
   "cell_type": "markdown",
   "metadata": {},
   "source": [
    "# Variables\n",
    "Our code so far isn't that useful because we can't store our outputs anywhere. That's where variables come in:"
   ]
  },
  {
   "cell_type": "code",
   "execution_count": 115,
   "metadata": {},
   "outputs": [
    {
     "name": "stdout",
     "output_type": "stream",
     "text": [
      "this\n"
     ]
    }
   ],
   "source": [
    "print('this')"
   ]
  },
  {
   "cell_type": "code",
   "execution_count": 104,
   "metadata": {},
   "outputs": [],
   "source": [
    "# we wouldn't want to type this twice!\n",
    "tree = \"\"\"\n",
    "          &&& &&  & &&\n",
    "      && &\\/&\\|& ()|/ @, &&\n",
    "      &\\/(/&/&||/& /_/)_&/_&\n",
    "   &() &\\/&|()|/&\\/ '%\" & ()\n",
    "  &_\\_&&_\\ |& |&&/&__%_/_& &&\n",
    "&&   && & &| &| /& & % ()& /&&\n",
    " ()&_---()&\\&\\|&&-&&--%---()~\n",
    "     &&     \\|||\n",
    "             |||\n",
    "             |||\n",
    "             |||\n",
    "       , -=-~  .-^- _\n",
    "\n",
    "\"\"\""
   ]
  },
  {
   "cell_type": "code",
   "execution_count": 118,
   "metadata": {},
   "outputs": [
    {
     "name": "stdout",
     "output_type": "stream",
     "text": [
      "tree\n"
     ]
    }
   ],
   "source": [
    "print('tree')"
   ]
  },
  {
   "cell_type": "code",
   "execution_count": 119,
   "metadata": {},
   "outputs": [
    {
     "name": "stdout",
     "output_type": "stream",
     "text": [
      "234\n"
     ]
    }
   ],
   "source": [
    "print(234)"
   ]
  },
  {
   "cell_type": "code",
   "execution_count": 126,
   "metadata": {},
   "outputs": [
    {
     "data": {
      "text/plain": [
       "\"Don't tell me what to do\""
      ]
     },
     "execution_count": 126,
     "metadata": {},
     "output_type": "execute_result"
    }
   ],
   "source": [
    "'Don\\'t tell me what to do'"
   ]
  },
  {
   "cell_type": "markdown",
   "metadata": {},
   "source": [
    "escape character: `\\`"
   ]
  },
  {
   "cell_type": "code",
   "execution_count": 128,
   "metadata": {},
   "outputs": [
    {
     "name": "stdout",
     "output_type": "stream",
     "text": [
      "\n",
      "here\n",
      "there\n"
     ]
    }
   ],
   "source": [
    "print('\\nhere\\nthere')"
   ]
  },
  {
   "cell_type": "code",
   "execution_count": 106,
   "metadata": {},
   "outputs": [
    {
     "name": "stdout",
     "output_type": "stream",
     "text": [
      "\n",
      "          &&& &&  & &&\n",
      "      && &\\/&\\|& ()|/ @, &&\n",
      "      &\\/(/&/&||/& /_/)_&/_&\n",
      "   &() &\\/&|()|/&\\/ '%\" & ()\n",
      "  &_\\_&&_\\ |& |&&/&__%_/_& &&\n",
      "&&   && & &| &| /& & % ()& /&&\n",
      " ()&_---()&\\&\\|&&-&&--%---()~\n",
      "     &&     \\|||\n",
      "             |||\n",
      "             |||\n",
      "             |||\n",
      "       , -=-~  .-^- _\n",
      "\n",
      "\n"
     ]
    }
   ],
   "source": [
    "print(tree)"
   ]
  },
  {
   "cell_type": "markdown",
   "metadata": {},
   "source": [
    "We can assign any object to any variable name. But we need to be careful since variable names can be overwritten:"
   ]
  },
  {
   "cell_type": "code",
   "execution_count": 111,
   "metadata": {},
   "outputs": [],
   "source": [
    "tree = 'a string that says tree'"
   ]
  },
  {
   "cell_type": "code",
   "execution_count": 112,
   "metadata": {},
   "outputs": [
    {
     "data": {
      "text/plain": [
       "'a string that says tree'"
      ]
     },
     "execution_count": 112,
     "metadata": {},
     "output_type": "execute_result"
    }
   ],
   "source": [
    "tree"
   ]
  },
  {
   "cell_type": "code",
   "execution_count": 113,
   "metadata": {},
   "outputs": [],
   "source": [
    "tree = 6"
   ]
  },
  {
   "cell_type": "code",
   "execution_count": 114,
   "metadata": {},
   "outputs": [
    {
     "data": {
      "text/plain": [
       "6"
      ]
     },
     "execution_count": 114,
     "metadata": {},
     "output_type": "execute_result"
    }
   ],
   "source": [
    "tree"
   ]
  },
  {
   "cell_type": "markdown",
   "metadata": {},
   "source": [
    "# Importing texts\n",
    "Now, we're going to import *Moby-Dick* as a string.\n",
    "\n",
    "For that to work, we need to have a *local copy of the file*, which we can make with Python. Run the code below to save a copy of *Moby-Dick* to your `~/Downloads` folder."
   ]
  },
  {
   "cell_type": "code",
   "execution_count": 129,
   "metadata": {},
   "outputs": [
    {
     "name": "stdout",
     "output_type": "stream",
     "text": [
      "Downloaded to: /Users/e/Downloads/moby.txt\n"
     ]
    }
   ],
   "source": [
    "# imports\n",
    "from pathlib import Path\n",
    "import os\n",
    "import urllib\n",
    "\n",
    "# get your home\n",
    "home = str(Path.home())\n",
    "\n",
    "# create a path to which the file will be written\n",
    "moby_path = os.path.join(home, 'Downloads/moby.txt')\n",
    "\n",
    "# location of the project gutenberg copy of the moby-dick text file\n",
    "moby_url = 'https://www.gutenberg.org/files/2701/2701-0.txt'\n",
    "\n",
    "urllib.request.urlretrieve(moby_url, moby_path)\n",
    "\n",
    "print('Downloaded to:', moby_path)"
   ]
  },
  {
   "cell_type": "markdown",
   "metadata": {},
   "source": [
    "# Opening text files as strings\n",
    "\n",
    "Now you have a file in your `~/Downloads` folder called `moby.txt` containing the Project Gutenberg *Moby-Dick*.\n",
    "\n",
    "We can use Python to open that up as a string.\n",
    "\n",
    "Note that Jupyter automatically indents under the `with`...`as` statement. Indentation has meaning in Python."
   ]
  },
  {
   "cell_type": "code",
   "execution_count": 130,
   "metadata": {},
   "outputs": [
    {
     "data": {
      "text/plain": [
       "'/Users/e/Downloads/moby.txt'"
      ]
     },
     "execution_count": 130,
     "metadata": {},
     "output_type": "execute_result"
    }
   ],
   "source": [
    "# this is where the file is on your computer:\n",
    "moby_path"
   ]
  },
  {
   "cell_type": "code",
   "execution_count": 131,
   "metadata": {},
   "outputs": [],
   "source": [
    "with open(moby_path, encoding = 'utf8') as moby: # UTF-8 is a file encoding. making this explicit can prevent errors\n",
    "    text = moby.read()"
   ]
  },
  {
   "cell_type": "markdown",
   "metadata": {},
   "source": [
    "This will confirm that you indeed have the right file:"
   ]
  },
  {
   "cell_type": "code",
   "execution_count": 132,
   "metadata": {},
   "outputs": [
    {
     "name": "stdout",
     "output_type": "stream",
     "text": [
      "Call me Ishmael. Some years ago—never mind how ...\n"
     ]
    }
   ],
   "source": [
    "print(text[27802:27848], '...')"
   ]
  },
  {
   "cell_type": "markdown",
   "metadata": {},
   "source": [
    "# Slicing texts\n",
    "To get \"Call me Ishamel\" out of the whole *Moby-Dick*, we did something called string slicing.\n",
    "\n",
    "We can do that on any iterable object in Python, and it will return elements in sequence.\n",
    "\n",
    "(Note that Python begins counting from `0`, not `1`. This takes a little getting used to.)\n",
    "\n",
    "## Slicing by word (tokenization)\n",
    "\n",
    "There's a lot more to say about slicing. For today, we're going to focus on splitting the text up *by words*, which is called tokenization. There are a lot of clever ways to tokenize texts, but we're going to use a simple one: `splitting` on spaces:"
   ]
  },
  {
   "cell_type": "code",
   "execution_count": 137,
   "metadata": {},
   "outputs": [],
   "source": [
    "bartleby = 'I would prefer not to.'"
   ]
  },
  {
   "cell_type": "code",
   "execution_count": 138,
   "metadata": {},
   "outputs": [],
   "source": [
    "import nltk"
   ]
  },
  {
   "cell_type": "code",
   "execution_count": 139,
   "metadata": {},
   "outputs": [
    {
     "data": {
      "text/plain": [
       "['I', 'would', 'prefer', 'not', 'to', '.']"
      ]
     },
     "execution_count": 139,
     "metadata": {},
     "output_type": "execute_result"
    }
   ],
   "source": [
    "nltk.word_tokenize(bartleby)"
   ]
  },
  {
   "cell_type": "code",
   "execution_count": 140,
   "metadata": {},
   "outputs": [],
   "source": [
    "# you can assign the outputs of statements to variables:\n",
    "bart_words = nltk.word_tokenize(bartleby)"
   ]
  },
  {
   "cell_type": "code",
   "execution_count": 141,
   "metadata": {},
   "outputs": [
    {
     "data": {
      "text/plain": [
       "['I', 'would', 'prefer', 'not', 'to', '.']"
      ]
     },
     "execution_count": 141,
     "metadata": {},
     "output_type": "execute_result"
    }
   ],
   "source": [
    "bart_words"
   ]
  },
  {
   "cell_type": "markdown",
   "metadata": {},
   "source": [
    "*Aside: We could make our tokenizer a lot better than this. For example, do we really want to count punctuation marks as \"words?\"*"
   ]
  },
  {
   "cell_type": "markdown",
   "metadata": {},
   "source": [
    "# Lists\n",
    "\n",
    "What is `bart_words`?\n",
    "\n",
    "`word_tokenize` splits up `bartleby` into a **list** of words, indicated by `[]`. We're going to do the same thing to all of *Moby-Dick*.\n",
    "\n",
    "Lists are an object type in Python, like integers or strings. They are ordered groups of objects separated by commas, and are offset by square brackets (`[]`)."
   ]
  },
  {
   "cell_type": "code",
   "execution_count": 142,
   "metadata": {},
   "outputs": [
    {
     "data": {
      "text/plain": [
       "[1, 2, 3]"
      ]
     },
     "execution_count": 142,
     "metadata": {},
     "output_type": "execute_result"
    }
   ],
   "source": [
    "# list of integers\n",
    "[1,2,3]"
   ]
  },
  {
   "cell_type": "code",
   "execution_count": 143,
   "metadata": {},
   "outputs": [
    {
     "data": {
      "text/plain": [
       "['a', 'b', 'c']"
      ]
     },
     "execution_count": 143,
     "metadata": {},
     "output_type": "execute_result"
    }
   ],
   "source": [
    "# list of strings\n",
    "['a','b','c']"
   ]
  },
  {
   "cell_type": "code",
   "execution_count": 144,
   "metadata": {},
   "outputs": [
    {
     "data": {
      "text/plain": [
       "[[1, 2], ['a', 'b']]"
      ]
     },
     "execution_count": 144,
     "metadata": {},
     "output_type": "execute_result"
    }
   ],
   "source": [
    "[[1,2,],['a','b']]"
   ]
  },
  {
   "cell_type": "markdown",
   "metadata": {},
   "source": [
    "You can access individual *elements* in lists using `[]` notation since lists are iterable:"
   ]
  },
  {
   "cell_type": "code",
   "execution_count": 145,
   "metadata": {},
   "outputs": [
    {
     "data": {
      "text/plain": [
       "'aardvark'"
      ]
     },
     "execution_count": 145,
     "metadata": {},
     "output_type": "execute_result"
    }
   ],
   "source": [
    "['aardvark', 'berry', 'capricorn'][0]"
   ]
  },
  {
   "cell_type": "code",
   "execution_count": 146,
   "metadata": {},
   "outputs": [
    {
     "data": {
      "text/plain": [
       "'berry'"
      ]
     },
     "execution_count": 146,
     "metadata": {},
     "output_type": "execute_result"
    }
   ],
   "source": [
    "['aardvark', 'berry', 'capricorn'][1]"
   ]
  },
  {
   "cell_type": "code",
   "execution_count": 147,
   "metadata": {},
   "outputs": [
    {
     "data": {
      "text/plain": [
       "'capricorn'"
      ]
     },
     "execution_count": 147,
     "metadata": {},
     "output_type": "execute_result"
    }
   ],
   "source": [
    "['aardvark', 'berry', 'capricorn'][2]"
   ]
  },
  {
   "cell_type": "markdown",
   "metadata": {},
   "source": [
    "You can also get multiple elements in sequence by using a `:` between values:"
   ]
  },
  {
   "cell_type": "code",
   "execution_count": 38,
   "metadata": {},
   "outputs": [
    {
     "data": {
      "text/plain": [
       "['aardvark', 'berry']"
      ]
     },
     "execution_count": 38,
     "metadata": {},
     "output_type": "execute_result"
    }
   ],
   "source": [
    "['aardvark', 'berry', 'capricorn'][0:2]"
   ]
  },
  {
   "cell_type": "markdown",
   "metadata": {},
   "source": [
    "Note that the second value in an expression like `[0:2]` goes to `n-1`, i.e. \"up to but not including element 2 in the sequence.\""
   ]
  },
  {
   "cell_type": "markdown",
   "metadata": {},
   "source": [
    "# Putting it all together\n",
    "So, we now have a way to make a list of words with `nltk`, and a way to slice texts up into sets of sequential words using our indices `[]`\n",
    "\n",
    "Let's make *Moby-Dick* into a list of tokens:"
   ]
  },
  {
   "cell_type": "code",
   "execution_count": 151,
   "metadata": {},
   "outputs": [],
   "source": [
    "# we named our Moby-Dick variable \"text\" above\n",
    "moby_toks = nltk.word_tokenize(text)"
   ]
  },
  {
   "cell_type": "code",
   "execution_count": 150,
   "metadata": {},
   "outputs": [
    {
     "name": "stderr",
     "output_type": "stream",
     "text": [
      "[nltk_data] Downloading package punkt to /Users/e/nltk_data...\n",
      "[nltk_data]   Package punkt is already up-to-date!\n"
     ]
    },
    {
     "data": {
      "text/plain": [
       "True"
      ]
     },
     "execution_count": 150,
     "metadata": {},
     "output_type": "execute_result"
    }
   ],
   "source": [
    "nltk.download('punkt')"
   ]
  },
  {
   "cell_type": "code",
   "execution_count": 152,
   "metadata": {},
   "outputs": [
    {
     "data": {
      "text/plain": [
       "['Call', 'me', 'Ishmael']"
      ]
     },
     "execution_count": 152,
     "metadata": {},
     "output_type": "execute_result"
    }
   ],
   "source": [
    "moby_toks[5696:5699]"
   ]
  },
  {
   "cell_type": "markdown",
   "metadata": {},
   "source": [
    "Now, we can put these ideas together in a **loop** to find keywords and their contexts."
   ]
  },
  {
   "cell_type": "markdown",
   "metadata": {},
   "source": [
    "# Loops\n",
    "\n",
    "Computers are dumb. But they're great at doing the same dumb thing many times quickly. Which is why loops are great.\n",
    "\n",
    "There are several types of loops in Python. We're going to start with a `for` loop which performs an action on every element of an iterable in sequence:"
   ]
  },
  {
   "cell_type": "code",
   "execution_count": 154,
   "metadata": {},
   "outputs": [],
   "source": [
    "my_list = ['aardvark', 'berry', 'capricorn']"
   ]
  },
  {
   "cell_type": "code",
   "execution_count": 155,
   "metadata": {},
   "outputs": [
    {
     "data": {
      "text/plain": [
       "['aardvark', 'berry', 'capricorn']"
      ]
     },
     "execution_count": 155,
     "metadata": {},
     "output_type": "execute_result"
    }
   ],
   "source": [
    "my_list"
   ]
  },
  {
   "cell_type": "code",
   "execution_count": 158,
   "metadata": {},
   "outputs": [
    {
     "name": "stdout",
     "output_type": "stream",
     "text": [
      "I love aardvark\n",
      "I love berry\n",
      "I love capricorn\n"
     ]
    }
   ],
   "source": [
    "for y in my_list:\n",
    "    print('I love', y)"
   ]
  },
  {
   "cell_type": "code",
   "execution_count": 156,
   "metadata": {},
   "outputs": [
    {
     "name": "stdout",
     "output_type": "stream",
     "text": [
      "I love aardvark\n",
      "I love berry\n",
      "I love capricorn\n"
     ]
    }
   ],
   "source": [
    "for word in my_list:\n",
    "    print('I love', word)"
   ]
  },
  {
   "cell_type": "code",
   "execution_count": 159,
   "metadata": {},
   "outputs": [
    {
     "name": "stdout",
     "output_type": "stream",
     "text": [
      "600\n",
      "1800\n",
      "239400\n"
     ]
    }
   ],
   "source": [
    "for x in [6,18,2394]:\n",
    "    print(x * 100)"
   ]
  },
  {
   "cell_type": "markdown",
   "metadata": {},
   "source": [
    "The general form of the `for` loop is as follows:\n",
    "```python\n",
    "for element in my_iterable:\n",
    "    # do something to each element\n",
    "```\n",
    "Python has a handy function called `enumerate()` for getting the indices of an iterable object as we go. We use that like this:\n",
    "\n",
    "```python\n",
    "for index, element in enumerate(my_iterable):\n",
    "    # do something with the element and/or its index\n",
    "```\n",
    "\n",
    "Let's apply that structure to our list above:"
   ]
  },
  {
   "cell_type": "code",
   "execution_count": 160,
   "metadata": {},
   "outputs": [
    {
     "name": "stdout",
     "output_type": "stream",
     "text": [
      "aardvark is at index \t 0\n",
      "berry is at index \t 1\n",
      "capricorn is at index \t 2\n"
     ]
    }
   ],
   "source": [
    "for index, word in enumerate(my_list):\n",
    "    print(word, 'is at index \\t', index) #\\t is the equivalent of tab"
   ]
  },
  {
   "cell_type": "code",
   "execution_count": 53,
   "metadata": {},
   "outputs": [
    {
     "data": {
      "text/plain": [
       "'capricorn'"
      ]
     },
     "execution_count": 53,
     "metadata": {},
     "output_type": "execute_result"
    }
   ],
   "source": [
    "# note that these indices are the same as the ones we get with [] notation:\n",
    "my_list[2]"
   ]
  },
  {
   "cell_type": "markdown",
   "metadata": {},
   "source": [
    "With a `for` loop, we can check every word in *Moby-Dick* to see which indices correspond to our keyword."
   ]
  },
  {
   "cell_type": "markdown",
   "metadata": {},
   "source": [
    "# Testing words with Boolean logic\n",
    "\n",
    "We're going to check to see if each word is the same as our search term. To do that, we need to use Boolean logic, which returns the value `True` or `False` depending on the result of a query:"
   ]
  },
  {
   "cell_type": "markdown",
   "metadata": {},
   "source": [
    "`==` tests to see if two objects are equivalent:"
   ]
  },
  {
   "cell_type": "code",
   "execution_count": 161,
   "metadata": {},
   "outputs": [
    {
     "data": {
      "text/plain": [
       "False"
      ]
     },
     "execution_count": 161,
     "metadata": {},
     "output_type": "execute_result"
    }
   ],
   "source": [
    "'a' == 'b'"
   ]
  },
  {
   "cell_type": "markdown",
   "metadata": {},
   "source": [
    "`True` and `False` are reserved words in Python with special meanings. We'll use them to decide `if` we should act on a particular word."
   ]
  },
  {
   "cell_type": "code",
   "execution_count": 162,
   "metadata": {},
   "outputs": [
    {
     "data": {
      "text/plain": [
       "False"
      ]
     },
     "execution_count": 162,
     "metadata": {},
     "output_type": "execute_result"
    }
   ],
   "source": [
    "'a' == 'A'"
   ]
  },
  {
   "cell_type": "code",
   "execution_count": 163,
   "metadata": {},
   "outputs": [
    {
     "data": {
      "text/plain": [
       "True"
      ]
     },
     "execution_count": 163,
     "metadata": {},
     "output_type": "execute_result"
    }
   ],
   "source": [
    "'a' == 'a'"
   ]
  },
  {
   "cell_type": "code",
   "execution_count": 164,
   "metadata": {},
   "outputs": [
    {
     "data": {
      "text/plain": [
       "True"
      ]
     },
     "execution_count": 164,
     "metadata": {},
     "output_type": "execute_result"
    }
   ],
   "source": [
    "'Ahab' == 'Ahab'"
   ]
  },
  {
   "cell_type": "markdown",
   "metadata": {},
   "source": [
    "There are many other Booleans in Python, but `==` is the only one we'll be using for now.\n",
    "\n",
    "## Conditionals\n",
    "\n",
    "Booleans allow us to take specific actions `if` and only if certain conditions are `True`:"
   ]
  },
  {
   "cell_type": "code",
   "execution_count": 165,
   "metadata": {},
   "outputs": [],
   "source": [
    "today = 'Friday'"
   ]
  },
  {
   "cell_type": "code",
   "execution_count": 166,
   "metadata": {},
   "outputs": [
    {
     "data": {
      "text/plain": [
       "True"
      ]
     },
     "execution_count": 166,
     "metadata": {},
     "output_type": "execute_result"
    }
   ],
   "source": [
    "today == 'Friday' #== checks for equivalence"
   ]
  },
  {
   "cell_type": "code",
   "execution_count": 167,
   "metadata": {},
   "outputs": [
    {
     "name": "stdout",
     "output_type": "stream",
     "text": [
      "TGIF\n"
     ]
    }
   ],
   "source": [
    "if today == 'Friday':\n",
    "    print('TGIF')"
   ]
  },
  {
   "cell_type": "markdown",
   "metadata": {},
   "source": [
    "Note that, just like a `for` loop, we indent under an `if` statement."
   ]
  },
  {
   "cell_type": "markdown",
   "metadata": {},
   "source": [
    "If a condition is `False` and you don't tell it to do anything else, Python does nothing:"
   ]
  },
  {
   "cell_type": "code",
   "execution_count": 168,
   "metadata": {},
   "outputs": [],
   "source": [
    "today = 'Thursday'"
   ]
  },
  {
   "cell_type": "code",
   "execution_count": 169,
   "metadata": {},
   "outputs": [
    {
     "data": {
      "text/plain": [
       "False"
      ]
     },
     "execution_count": 169,
     "metadata": {},
     "output_type": "execute_result"
    }
   ],
   "source": [
    "today == 'Friday'"
   ]
  },
  {
   "cell_type": "code",
   "execution_count": 170,
   "metadata": {},
   "outputs": [],
   "source": [
    "# this does nothing because the condition returns False\n",
    "if today == 'Friday':\n",
    "    print('TGIF')"
   ]
  },
  {
   "cell_type": "markdown",
   "metadata": {},
   "source": [
    "## Using a `for` loop, Booleans, and `if` to check our words\n",
    "This loop prints *every* index in *Moby-Dick* that is exactly the same as the string `'Ahab'`:"
   ]
  },
  {
   "cell_type": "code",
   "execution_count": 63,
   "metadata": {},
   "outputs": [
    {
     "name": "stdout",
     "output_type": "stream",
     "text": [
      "The word Ahab appears at index number 307\n",
      "The word Ahab appears at index number 313\n",
      "The word Ahab appears at index number 443\n",
      "The word Ahab appears at index number 898\n",
      "The word Ahab appears at index number 912\n",
      "The word Ahab appears at index number 920\n",
      "The word Ahab appears at index number 36676\n",
      "The word Ahab appears at index number 36683\n",
      "The word Ahab appears at index number 36698\n",
      "The word Ahab appears at index number 36823\n",
      "The word Ahab appears at index number 40664\n",
      "The word Ahab appears at index number 40678\n",
      "The word Ahab appears at index number 40839\n",
      "The word Ahab appears at index number 40866\n",
      "The word Ahab appears at index number 40873\n",
      "The word Ahab appears at index number 40953\n",
      "The word Ahab appears at index number 41034\n",
      "The word Ahab appears at index number 41112\n",
      "The word Ahab appears at index number 41295\n",
      "The word Ahab appears at index number 41350\n",
      "The word Ahab appears at index number 41367\n",
      "The word Ahab appears at index number 41393\n",
      "The word Ahab appears at index number 41535\n",
      "The word Ahab appears at index number 45866\n",
      "The word Ahab appears at index number 45986\n",
      "The word Ahab appears at index number 46621\n",
      "The word Ahab appears at index number 46733\n",
      "The word Ahab appears at index number 46966\n",
      "The word Ahab appears at index number 47550\n",
      "The word Ahab appears at index number 48540\n",
      "The word Ahab appears at index number 50066\n",
      "The word Ahab appears at index number 50175\n",
      "The word Ahab appears at index number 50292\n",
      "The word Ahab appears at index number 50412\n",
      "The word Ahab appears at index number 50494\n",
      "The word Ahab appears at index number 51892\n",
      "The word Ahab appears at index number 57206\n",
      "The word Ahab appears at index number 58112\n",
      "The word Ahab appears at index number 58217\n",
      "The word Ahab appears at index number 58233\n",
      "The word Ahab appears at index number 58755\n",
      "The word Ahab appears at index number 59019\n",
      "The word Ahab appears at index number 59088\n",
      "The word Ahab appears at index number 59126\n",
      "The word Ahab appears at index number 59171\n",
      "The word Ahab appears at index number 59348\n",
      "The word Ahab appears at index number 59439\n",
      "The word Ahab appears at index number 59660\n",
      "The word Ahab appears at index number 59778\n",
      "The word Ahab appears at index number 59831\n",
      "The word Ahab appears at index number 60027\n",
      "The word Ahab appears at index number 60081\n",
      "The word Ahab appears at index number 60394\n",
      "The word Ahab appears at index number 60451\n",
      "The word Ahab appears at index number 60464\n",
      "The word Ahab appears at index number 60567\n",
      "The word Ahab appears at index number 60648\n",
      "The word Ahab appears at index number 61336\n",
      "The word Ahab appears at index number 61433\n",
      "The word Ahab appears at index number 61473\n",
      "The word Ahab appears at index number 61664\n",
      "The word Ahab appears at index number 61741\n",
      "The word Ahab appears at index number 61805\n",
      "The word Ahab appears at index number 62353\n",
      "The word Ahab appears at index number 62525\n",
      "The word Ahab appears at index number 62669\n",
      "The word Ahab appears at index number 62802\n",
      "The word Ahab appears at index number 69617\n",
      "The word Ahab appears at index number 69930\n",
      "The word Ahab appears at index number 69990\n",
      "The word Ahab appears at index number 70115\n",
      "The word Ahab appears at index number 70431\n",
      "The word Ahab appears at index number 70712\n",
      "The word Ahab appears at index number 70754\n",
      "The word Ahab appears at index number 70760\n",
      "The word Ahab appears at index number 70847\n",
      "The word Ahab appears at index number 70940\n",
      "The word Ahab appears at index number 71064\n",
      "The word Ahab appears at index number 71078\n",
      "The word Ahab appears at index number 71489\n",
      "The word Ahab appears at index number 71493\n",
      "The word Ahab appears at index number 71839\n",
      "The word Ahab appears at index number 72355\n",
      "The word Ahab appears at index number 72497\n",
      "The word Ahab appears at index number 72582\n",
      "The word Ahab appears at index number 75576\n",
      "The word Ahab appears at index number 75602\n",
      "The word Ahab appears at index number 75752\n",
      "The word Ahab appears at index number 75950\n",
      "The word Ahab appears at index number 75999\n",
      "The word Ahab appears at index number 76067\n",
      "The word Ahab appears at index number 76133\n",
      "The word Ahab appears at index number 76259\n",
      "The word Ahab appears at index number 76360\n",
      "The word Ahab appears at index number 76551\n",
      "The word Ahab appears at index number 76639\n",
      "The word Ahab appears at index number 76665\n",
      "The word Ahab appears at index number 76728\n",
      "The word Ahab appears at index number 76792\n",
      "The word Ahab appears at index number 76876\n",
      "The word Ahab appears at index number 76917\n",
      "The word Ahab appears at index number 76945\n",
      "The word Ahab appears at index number 77262\n",
      "The word Ahab appears at index number 77307\n",
      "The word Ahab appears at index number 77452\n",
      "The word Ahab appears at index number 77818\n",
      "The word Ahab appears at index number 78012\n",
      "The word Ahab appears at index number 78173\n",
      "The word Ahab appears at index number 78660\n",
      "The word Ahab appears at index number 79072\n",
      "The word Ahab appears at index number 79091\n",
      "The word Ahab appears at index number 79640\n",
      "The word Ahab appears at index number 80077\n",
      "The word Ahab appears at index number 82018\n",
      "The word Ahab appears at index number 82777\n",
      "The word Ahab appears at index number 83169\n",
      "The word Ahab appears at index number 85253\n",
      "The word Ahab appears at index number 85275\n",
      "The word Ahab appears at index number 85327\n",
      "The word Ahab appears at index number 85525\n",
      "The word Ahab appears at index number 85681\n",
      "The word Ahab appears at index number 85932\n",
      "The word Ahab appears at index number 85971\n",
      "The word Ahab appears at index number 86014\n",
      "The word Ahab appears at index number 86093\n",
      "The word Ahab appears at index number 86127\n",
      "The word Ahab appears at index number 86320\n",
      "The word Ahab appears at index number 86668\n",
      "The word Ahab appears at index number 87061\n",
      "The word Ahab appears at index number 91573\n",
      "The word Ahab appears at index number 91806\n",
      "The word Ahab appears at index number 91846\n",
      "The word Ahab appears at index number 91916\n",
      "The word Ahab appears at index number 92439\n",
      "The word Ahab appears at index number 92719\n",
      "The word Ahab appears at index number 92769\n",
      "The word Ahab appears at index number 92902\n",
      "The word Ahab appears at index number 93043\n",
      "The word Ahab appears at index number 93268\n",
      "The word Ahab appears at index number 93528\n",
      "The word Ahab appears at index number 93586\n",
      "The word Ahab appears at index number 93600\n",
      "The word Ahab appears at index number 93712\n",
      "The word Ahab appears at index number 93801\n",
      "The word Ahab appears at index number 97963\n",
      "The word Ahab appears at index number 98159\n",
      "The word Ahab appears at index number 98252\n",
      "The word Ahab appears at index number 98259\n",
      "The word Ahab appears at index number 98370\n",
      "The word Ahab appears at index number 98557\n",
      "The word Ahab appears at index number 98590\n",
      "The word Ahab appears at index number 98730\n",
      "The word Ahab appears at index number 98781\n",
      "The word Ahab appears at index number 98794\n",
      "The word Ahab appears at index number 98821\n",
      "The word Ahab appears at index number 98905\n",
      "The word Ahab appears at index number 98974\n",
      "The word Ahab appears at index number 99829\n",
      "The word Ahab appears at index number 99852\n",
      "The word Ahab appears at index number 100124\n",
      "The word Ahab appears at index number 100374\n",
      "The word Ahab appears at index number 100537\n",
      "The word Ahab appears at index number 100599\n",
      "The word Ahab appears at index number 100612\n",
      "The word Ahab appears at index number 101321\n",
      "The word Ahab appears at index number 101797\n",
      "The word Ahab appears at index number 101845\n",
      "The word Ahab appears at index number 101980\n",
      "The word Ahab appears at index number 102008\n",
      "The word Ahab appears at index number 102105\n",
      "The word Ahab appears at index number 103476\n",
      "The word Ahab appears at index number 103533\n",
      "The word Ahab appears at index number 105919\n",
      "The word Ahab appears at index number 106135\n",
      "The word Ahab appears at index number 106220\n",
      "The word Ahab appears at index number 106266\n",
      "The word Ahab appears at index number 106285\n",
      "The word Ahab appears at index number 106408\n",
      "The word Ahab appears at index number 106620\n",
      "The word Ahab appears at index number 106869\n",
      "The word Ahab appears at index number 107465\n",
      "The word Ahab appears at index number 107578\n",
      "The word Ahab appears at index number 108345\n",
      "The word Ahab appears at index number 108436\n",
      "The word Ahab appears at index number 108599\n",
      "The word Ahab appears at index number 109191\n",
      "The word Ahab appears at index number 109371\n",
      "The word Ahab appears at index number 109406\n",
      "The word Ahab appears at index number 109642\n",
      "The word Ahab appears at index number 111701\n",
      "The word Ahab appears at index number 127320\n",
      "The word Ahab appears at index number 127375\n",
      "The word Ahab appears at index number 127451\n",
      "The word Ahab appears at index number 127704\n",
      "The word Ahab appears at index number 130267\n",
      "The word Ahab appears at index number 130345\n",
      "The word Ahab appears at index number 133448\n",
      "The word Ahab appears at index number 133516\n",
      "The word Ahab appears at index number 133932\n",
      "The word Ahab appears at index number 142155\n",
      "The word Ahab appears at index number 142272\n",
      "The word Ahab appears at index number 142559\n",
      "The word Ahab appears at index number 143946\n",
      "The word Ahab appears at index number 144040\n",
      "The word Ahab appears at index number 144777\n",
      "The word Ahab appears at index number 144808\n",
      "The word Ahab appears at index number 144860\n",
      "The word Ahab appears at index number 145033\n",
      "The word Ahab appears at index number 145111\n",
      "The word Ahab appears at index number 145199\n",
      "The word Ahab appears at index number 145216\n",
      "The word Ahab appears at index number 145334\n",
      "The word Ahab appears at index number 149419\n",
      "The word Ahab appears at index number 149975\n",
      "The word Ahab appears at index number 150009\n",
      "The word Ahab appears at index number 159462\n",
      "The word Ahab appears at index number 172423\n",
      "The word Ahab appears at index number 172510\n",
      "The word Ahab appears at index number 172565\n",
      "The word Ahab appears at index number 172615\n",
      "The word Ahab appears at index number 173562\n",
      "The word Ahab appears at index number 173684\n",
      "The word Ahab appears at index number 173811\n",
      "The word Ahab appears at index number 182805\n",
      "The word Ahab appears at index number 182835\n",
      "The word Ahab appears at index number 184642\n",
      "The word Ahab appears at index number 193397\n",
      "The word Ahab appears at index number 194054\n",
      "The word Ahab appears at index number 194101\n",
      "The word Ahab appears at index number 194108\n",
      "The word Ahab appears at index number 194125\n",
      "The word Ahab appears at index number 194129\n",
      "The word Ahab appears at index number 196331\n",
      "The word Ahab appears at index number 196525\n",
      "The word Ahab appears at index number 196684\n",
      "The word Ahab appears at index number 196747\n",
      "The word Ahab appears at index number 196894\n",
      "The word Ahab appears at index number 196950\n",
      "The word Ahab appears at index number 197120\n",
      "The word Ahab appears at index number 197230\n",
      "The word Ahab appears at index number 197370\n",
      "The word Ahab appears at index number 197421\n",
      "The word Ahab appears at index number 197564\n",
      "The word Ahab appears at index number 197593\n",
      "The word Ahab appears at index number 198336\n",
      "The word Ahab appears at index number 198400\n",
      "The word Ahab appears at index number 199048\n",
      "The word Ahab appears at index number 199671\n",
      "The word Ahab appears at index number 199719\n",
      "The word Ahab appears at index number 199729\n",
      "The word Ahab appears at index number 199809\n",
      "The word Ahab appears at index number 199877\n",
      "The word Ahab appears at index number 200503\n",
      "The word Ahab appears at index number 206019\n",
      "The word Ahab appears at index number 208281\n",
      "The word Ahab appears at index number 208292\n",
      "The word Ahab appears at index number 208406\n",
      "The word Ahab appears at index number 208434\n",
      "The word Ahab appears at index number 208621\n",
      "The word Ahab appears at index number 208742\n",
      "The word Ahab appears at index number 208903\n",
      "The word Ahab appears at index number 208989\n",
      "The word Ahab appears at index number 209193\n",
      "The word Ahab appears at index number 210581\n",
      "The word Ahab appears at index number 212487\n",
      "The word Ahab appears at index number 212652\n",
      "The word Ahab appears at index number 212831\n",
      "The word Ahab appears at index number 212945\n",
      "The word Ahab appears at index number 213203\n",
      "The word Ahab appears at index number 213263\n",
      "The word Ahab appears at index number 213399\n",
      "The word Ahab appears at index number 213402\n",
      "The word Ahab appears at index number 213542\n",
      "The word Ahab appears at index number 213545\n",
      "The word Ahab appears at index number 213570\n",
      "The word Ahab appears at index number 213712\n",
      "The word Ahab appears at index number 216407\n",
      "The word Ahab appears at index number 216779\n",
      "The word Ahab appears at index number 216988\n",
      "The word Ahab appears at index number 218107\n",
      "The word Ahab appears at index number 218131\n",
      "The word Ahab appears at index number 218170\n",
      "The word Ahab appears at index number 218230\n",
      "The word Ahab appears at index number 218446\n",
      "The word Ahab appears at index number 218703\n",
      "The word Ahab appears at index number 218799\n",
      "The word Ahab appears at index number 218857\n",
      "The word Ahab appears at index number 218940\n",
      "The word Ahab appears at index number 219035\n",
      "The word Ahab appears at index number 219086\n",
      "The word Ahab appears at index number 219235\n",
      "The word Ahab appears at index number 219339\n",
      "The word Ahab appears at index number 219373\n",
      "The word Ahab appears at index number 219435\n",
      "The word Ahab appears at index number 219524\n",
      "The word Ahab appears at index number 219982\n",
      "The word Ahab appears at index number 220416\n",
      "The word Ahab appears at index number 221061\n",
      "The word Ahab appears at index number 221154\n",
      "The word Ahab appears at index number 221266\n",
      "The word Ahab appears at index number 221385\n",
      "The word Ahab appears at index number 221516\n",
      "The word Ahab appears at index number 221622\n",
      "The word Ahab appears at index number 221675\n",
      "The word Ahab appears at index number 222134\n",
      "The word Ahab appears at index number 222196\n",
      "The word Ahab appears at index number 222264\n",
      "The word Ahab appears at index number 222586\n",
      "The word Ahab appears at index number 222663\n",
      "The word Ahab appears at index number 222739\n",
      "The word Ahab appears at index number 222833\n",
      "The word Ahab appears at index number 222925\n",
      "The word Ahab appears at index number 222976\n",
      "The word Ahab appears at index number 223437\n",
      "The word Ahab appears at index number 223485\n",
      "The word Ahab appears at index number 223563\n",
      "The word Ahab appears at index number 223669\n",
      "The word Ahab appears at index number 223701\n",
      "The word Ahab appears at index number 223963\n",
      "The word Ahab appears at index number 224444\n",
      "The word Ahab appears at index number 224656\n",
      "The word Ahab appears at index number 224878\n",
      "The word Ahab appears at index number 224904\n",
      "The word Ahab appears at index number 225603\n",
      "The word Ahab appears at index number 225710\n",
      "The word Ahab appears at index number 226077\n",
      "The word Ahab appears at index number 226464\n",
      "The word Ahab appears at index number 226548\n",
      "The word Ahab appears at index number 226662\n",
      "The word Ahab appears at index number 226714\n",
      "The word Ahab appears at index number 226747\n",
      "The word Ahab appears at index number 226838\n",
      "The word Ahab appears at index number 227169\n",
      "The word Ahab appears at index number 227458\n",
      "The word Ahab appears at index number 228399\n",
      "The word Ahab appears at index number 228866\n",
      "The word Ahab appears at index number 229210\n",
      "The word Ahab appears at index number 229579\n",
      "The word Ahab appears at index number 229775\n",
      "The word Ahab appears at index number 229803\n",
      "The word Ahab appears at index number 230261\n",
      "The word Ahab appears at index number 230301\n",
      "The word Ahab appears at index number 230378\n",
      "The word Ahab appears at index number 230533\n",
      "The word Ahab appears at index number 230545\n",
      "The word Ahab appears at index number 230599\n",
      "The word Ahab appears at index number 230771\n",
      "The word Ahab appears at index number 230808\n",
      "The word Ahab appears at index number 230869\n",
      "The word Ahab appears at index number 231053\n",
      "The word Ahab appears at index number 231219\n",
      "The word Ahab appears at index number 231224\n",
      "The word Ahab appears at index number 231610\n",
      "The word Ahab appears at index number 231805\n",
      "The word Ahab appears at index number 231859\n",
      "The word Ahab appears at index number 232028\n",
      "The word Ahab appears at index number 232041\n",
      "The word Ahab appears at index number 232087\n",
      "The word Ahab appears at index number 232351\n",
      "The word Ahab appears at index number 232363\n",
      "The word Ahab appears at index number 232590\n",
      "The word Ahab appears at index number 233435\n",
      "The word Ahab appears at index number 235047\n",
      "The word Ahab appears at index number 235079\n",
      "The word Ahab appears at index number 235143\n",
      "The word Ahab appears at index number 235170\n",
      "The word Ahab appears at index number 235730\n",
      "The word Ahab appears at index number 235814\n",
      "The word Ahab appears at index number 236033\n",
      "The word Ahab appears at index number 236180\n",
      "The word Ahab appears at index number 236183\n",
      "The word Ahab appears at index number 236620\n",
      "The word Ahab appears at index number 236628\n",
      "The word Ahab appears at index number 236874\n",
      "The word Ahab appears at index number 236917\n",
      "The word Ahab appears at index number 237374\n",
      "The word Ahab appears at index number 237524\n",
      "The word Ahab appears at index number 237636\n",
      "The word Ahab appears at index number 237698\n",
      "The word Ahab appears at index number 237868\n",
      "The word Ahab appears at index number 238252\n",
      "The word Ahab appears at index number 238276\n",
      "The word Ahab appears at index number 238283\n",
      "The word Ahab appears at index number 238365\n",
      "The word Ahab appears at index number 238546\n",
      "The word Ahab appears at index number 238742\n",
      "The word Ahab appears at index number 238929\n",
      "The word Ahab appears at index number 239027\n",
      "The word Ahab appears at index number 239117\n",
      "The word Ahab appears at index number 239191\n",
      "The word Ahab appears at index number 239292\n",
      "The word Ahab appears at index number 239582\n",
      "The word Ahab appears at index number 239754\n",
      "The word Ahab appears at index number 239812\n",
      "The word Ahab appears at index number 240153\n",
      "The word Ahab appears at index number 240213\n",
      "The word Ahab appears at index number 240267\n",
      "The word Ahab appears at index number 240398\n",
      "The word Ahab appears at index number 240484\n",
      "The word Ahab appears at index number 240565\n",
      "The word Ahab appears at index number 240798\n",
      "The word Ahab appears at index number 240826\n",
      "The word Ahab appears at index number 240861\n",
      "The word Ahab appears at index number 241089\n",
      "The word Ahab appears at index number 241422\n",
      "The word Ahab appears at index number 241527\n",
      "The word Ahab appears at index number 241529\n",
      "The word Ahab appears at index number 241809\n",
      "The word Ahab appears at index number 241975\n",
      "The word Ahab appears at index number 242116\n",
      "The word Ahab appears at index number 242280\n",
      "The word Ahab appears at index number 242320\n",
      "The word Ahab appears at index number 242397\n",
      "The word Ahab appears at index number 242420\n",
      "The word Ahab appears at index number 242701\n",
      "The word Ahab appears at index number 243342\n",
      "The word Ahab appears at index number 243439\n",
      "The word Ahab appears at index number 243477\n",
      "The word Ahab appears at index number 243600\n",
      "The word Ahab appears at index number 243807\n",
      "The word Ahab appears at index number 243947\n",
      "The word Ahab appears at index number 244101\n",
      "The word Ahab appears at index number 244442\n",
      "The word Ahab appears at index number 244484\n",
      "The word Ahab appears at index number 244614\n",
      "The word Ahab appears at index number 244696\n",
      "The word Ahab appears at index number 244822\n",
      "The word Ahab appears at index number 244994\n",
      "The word Ahab appears at index number 245117\n",
      "The word Ahab appears at index number 245397\n",
      "The word Ahab appears at index number 245472\n",
      "The word Ahab appears at index number 245806\n",
      "The word Ahab appears at index number 246166\n",
      "The word Ahab appears at index number 246981\n",
      "The word Ahab appears at index number 247217\n",
      "The word Ahab appears at index number 247336\n",
      "The word Ahab appears at index number 247414\n",
      "The word Ahab appears at index number 247711\n",
      "The word Ahab appears at index number 247773\n",
      "The word Ahab appears at index number 247868\n",
      "The word Ahab appears at index number 248057\n",
      "The word Ahab appears at index number 248150\n",
      "The word Ahab appears at index number 248224\n",
      "The word Ahab appears at index number 248536\n",
      "The word Ahab appears at index number 248793\n",
      "The word Ahab appears at index number 248909\n",
      "The word Ahab appears at index number 248985\n",
      "The word Ahab appears at index number 249027\n",
      "The word Ahab appears at index number 249322\n",
      "The word Ahab appears at index number 249642\n",
      "The word Ahab appears at index number 249646\n",
      "The word Ahab appears at index number 249734\n",
      "The word Ahab appears at index number 249793\n",
      "The word Ahab appears at index number 249902\n",
      "The word Ahab appears at index number 250116\n",
      "The word Ahab appears at index number 250137\n",
      "The word Ahab appears at index number 250218\n",
      "The word Ahab appears at index number 250312\n",
      "The word Ahab appears at index number 250318\n",
      "The word Ahab appears at index number 250633\n",
      "The word Ahab appears at index number 251069\n",
      "The word Ahab appears at index number 251096\n",
      "The word Ahab appears at index number 251104\n",
      "The word Ahab appears at index number 251142\n",
      "The word Ahab appears at index number 251391\n",
      "The word Ahab appears at index number 251583\n",
      "The word Ahab appears at index number 251673\n",
      "The word Ahab appears at index number 251867\n",
      "The word Ahab appears at index number 251927\n",
      "The word Ahab appears at index number 252071\n",
      "The word Ahab appears at index number 252429\n",
      "The word Ahab appears at index number 252455\n",
      "The word Ahab appears at index number 252706\n",
      "The word Ahab appears at index number 252816\n",
      "The word Ahab appears at index number 252927\n",
      "The word Ahab appears at index number 253024\n",
      "The word Ahab appears at index number 253183\n",
      "The word Ahab appears at index number 253252\n",
      "The word Ahab appears at index number 253544\n",
      "The word Ahab appears at index number 253673\n",
      "The word Ahab appears at index number 253753\n",
      "The word Ahab appears at index number 253886\n",
      "The word Ahab appears at index number 253995\n",
      "The word Ahab appears at index number 254157\n",
      "The word Ahab appears at index number 254227\n",
      "The word Ahab appears at index number 254464\n",
      "The word Ahab appears at index number 254466\n",
      "The word Ahab appears at index number 254681\n",
      "The word Ahab appears at index number 254949\n",
      "The word Ahab appears at index number 255001\n",
      "The word Ahab appears at index number 255262\n",
      "The word Ahab appears at index number 255663\n",
      "The word Ahab appears at index number 255802\n"
     ]
    }
   ],
   "source": [
    "for index, word in enumerate(moby_toks):\n",
    "    if word == 'Ahab':\n",
    "        print('The word Ahab appears at index number', index)"
   ]
  },
  {
   "cell_type": "markdown",
   "metadata": {},
   "source": [
    "## `appending` our results to lists\n",
    "It's not helpful to just `print` these. Instead, we're going to collect each of these indices in a new list using the `append` method, which adds the element you pass it to the end of an existing list:"
   ]
  },
  {
   "cell_type": "code",
   "execution_count": 178,
   "metadata": {},
   "outputs": [],
   "source": [
    "# initializing an empty list with []\n",
    "new_list = []"
   ]
  },
  {
   "cell_type": "code",
   "execution_count": 179,
   "metadata": {},
   "outputs": [
    {
     "data": {
      "text/plain": [
       "[]"
      ]
     },
     "execution_count": 179,
     "metadata": {},
     "output_type": "execute_result"
    }
   ],
   "source": [
    "# empty list\n",
    "new_list"
   ]
  },
  {
   "cell_type": "code",
   "execution_count": 180,
   "metadata": {},
   "outputs": [],
   "source": [
    "new_list.append('a')"
   ]
  },
  {
   "cell_type": "code",
   "execution_count": 181,
   "metadata": {},
   "outputs": [
    {
     "data": {
      "text/plain": [
       "['a']"
      ]
     },
     "execution_count": 181,
     "metadata": {},
     "output_type": "execute_result"
    }
   ],
   "source": [
    "# no longer empty!\n",
    "new_list"
   ]
  },
  {
   "cell_type": "code",
   "execution_count": 182,
   "metadata": {},
   "outputs": [],
   "source": [
    "new_list.append('b')"
   ]
  },
  {
   "cell_type": "code",
   "execution_count": 183,
   "metadata": {},
   "outputs": [
    {
     "data": {
      "text/plain": [
       "['a', 'b']"
      ]
     },
     "execution_count": 183,
     "metadata": {},
     "output_type": "execute_result"
    }
   ],
   "source": [
    "new_list"
   ]
  },
  {
   "cell_type": "markdown",
   "metadata": {},
   "source": [
    "## `append` in a `for` loop\n",
    "So, using the same logic, we can `append` all of those Ahab locations we `printed` to the screen before:"
   ]
  },
  {
   "cell_type": "code",
   "execution_count": 184,
   "metadata": {},
   "outputs": [],
   "source": [
    "ahabs = []\n",
    "\n",
    "for index, word in enumerate(moby_toks):\n",
    "    if word == 'Ahab':\n",
    "        ahabs.append(index)"
   ]
  },
  {
   "cell_type": "code",
   "execution_count": 185,
   "metadata": {},
   "outputs": [
    {
     "data": {
      "text/plain": [
       "[307, 313, 443, 898, 912, 920, 36676, 36683, 36698, 36823]"
      ]
     },
     "execution_count": 185,
     "metadata": {},
     "output_type": "execute_result"
    }
   ],
   "source": [
    "# just looking at the first 10 indices\n",
    "ahabs[:10]"
   ]
  },
  {
   "cell_type": "markdown",
   "metadata": {},
   "source": [
    "# From indices to contexts\n",
    "Now that we have our indices, we can collect their contexts using the same logic.\n",
    "\n",
    "Let's start by looking at one context for the first instance of `Ahab`:"
   ]
  },
  {
   "cell_type": "code",
   "execution_count": 186,
   "metadata": {},
   "outputs": [
    {
     "data": {
      "text/plain": [
       "'Ahab'"
      ]
     },
     "execution_count": 186,
     "metadata": {},
     "output_type": "execute_result"
    }
   ],
   "source": [
    "moby_toks[307]"
   ]
  },
  {
   "cell_type": "code",
   "execution_count": 76,
   "metadata": {},
   "outputs": [
    {
     "data": {
      "text/plain": [
       "['CHAPTER',\n",
       " '27',\n",
       " '.',\n",
       " 'Knights',\n",
       " 'and',\n",
       " 'Squires',\n",
       " '.',\n",
       " 'CHAPTER',\n",
       " '28',\n",
       " '.',\n",
       " 'Ahab',\n",
       " '.',\n",
       " 'CHAPTER',\n",
       " '29',\n",
       " '.',\n",
       " 'Enter',\n",
       " 'Ahab',\n",
       " ';',\n",
       " 'to',\n",
       " 'Him']"
      ]
     },
     "execution_count": 76,
     "metadata": {},
     "output_type": "execute_result"
    }
   ],
   "source": [
    "moby_toks[297:317] # +/- 10 words as context"
   ]
  },
  {
   "cell_type": "markdown",
   "metadata": {},
   "source": [
    "We're going to use our `append` method to gather up our results in a list of lists:"
   ]
  },
  {
   "cell_type": "code",
   "execution_count": 187,
   "metadata": {},
   "outputs": [],
   "source": [
    "index = 30"
   ]
  },
  {
   "cell_type": "code",
   "execution_count": 188,
   "metadata": {},
   "outputs": [
    {
     "data": {
      "text/plain": [
       "40"
      ]
     },
     "execution_count": 188,
     "metadata": {},
     "output_type": "execute_result"
    }
   ],
   "source": [
    "index + 10"
   ]
  },
  {
   "cell_type": "code",
   "execution_count": 189,
   "metadata": {},
   "outputs": [
    {
     "data": {
      "text/plain": [
       "20"
      ]
     },
     "execution_count": 189,
     "metadata": {},
     "output_type": "execute_result"
    }
   ],
   "source": [
    "index - 10"
   ]
  },
  {
   "cell_type": "code",
   "execution_count": 190,
   "metadata": {},
   "outputs": [],
   "source": [
    "ahab_contexts = []\n",
    "\n",
    "for index in ahabs:\n",
    "    context = moby_toks[index - 10:index + 10] # this is looking to the 10 words before and after the index\n",
    "    ahab_contexts.append(context)"
   ]
  },
  {
   "cell_type": "code",
   "execution_count": 191,
   "metadata": {},
   "outputs": [
    {
     "data": {
      "text/plain": [
       "[['CHAPTER',\n",
       "  '27',\n",
       "  '.',\n",
       "  'Knights',\n",
       "  'and',\n",
       "  'Squires',\n",
       "  '.',\n",
       "  'CHAPTER',\n",
       "  '28',\n",
       "  '.',\n",
       "  'Ahab',\n",
       "  '.',\n",
       "  'CHAPTER',\n",
       "  '29',\n",
       "  '.',\n",
       "  'Enter',\n",
       "  'Ahab',\n",
       "  ';',\n",
       "  'to',\n",
       "  'Him'],\n",
       " ['.',\n",
       "  'CHAPTER',\n",
       "  '28',\n",
       "  '.',\n",
       "  'Ahab',\n",
       "  '.',\n",
       "  'CHAPTER',\n",
       "  '29',\n",
       "  '.',\n",
       "  'Enter',\n",
       "  'Ahab',\n",
       "  ';',\n",
       "  'to',\n",
       "  'Him',\n",
       "  ',',\n",
       "  'Stubb',\n",
       "  '.',\n",
       "  'CHAPTER',\n",
       "  '30',\n",
       "  '.']]"
      ]
     },
     "execution_count": 191,
     "metadata": {},
     "output_type": "execute_result"
    }
   ],
   "source": [
    "# let's see the first two contexts\n",
    "ahab_contexts[0:2]"
   ]
  },
  {
   "cell_type": "markdown",
   "metadata": {},
   "source": [
    "Great! We have a list of contexts based on the keyword `Ahab` from across all of *Moby-Dick*."
   ]
  },
  {
   "cell_type": "markdown",
   "metadata": {},
   "source": [
    "# Filtering our contexts\n",
    "\n",
    "Now, for the last step, we're going to check each of these contexts for a **second** word. This will allow us to see how often \"Ahab\" and any other word co-occur.\n",
    "\n",
    "One other operation that would be helpful for this is the Boolean operator `in`, which checks to see if an element appears in an iterable. For instance:"
   ]
  },
  {
   "cell_type": "code",
   "execution_count": 451,
   "metadata": {},
   "outputs": [
    {
     "data": {
      "text/plain": [
       "True"
      ]
     },
     "execution_count": 451,
     "metadata": {},
     "output_type": "execute_result"
    }
   ],
   "source": [
    "'a' in ['a','b','c']"
   ]
  },
  {
   "cell_type": "code",
   "execution_count": 216,
   "metadata": {},
   "outputs": [
    {
     "data": {
      "text/plain": [
       "False"
      ]
     },
     "execution_count": 216,
     "metadata": {},
     "output_type": "execute_result"
    }
   ],
   "source": [
    "'d' in ['a','b','c']"
   ]
  },
  {
   "cell_type": "code",
   "execution_count": 79,
   "metadata": {},
   "outputs": [
    {
     "data": {
      "text/plain": [
       "False"
      ]
     },
     "execution_count": 79,
     "metadata": {},
     "output_type": "execute_result"
    }
   ],
   "source": [
    "# note that there must be an exact match to return True\n",
    "'a' in ['aa','aaa','aaaa']"
   ]
  },
  {
   "cell_type": "markdown",
   "metadata": {},
   "source": [
    "So, applying that `in` logic to what we have, we can see every context that contains both words:"
   ]
  },
  {
   "cell_type": "code",
   "execution_count": 193,
   "metadata": {},
   "outputs": [],
   "source": [
    "ahab_whale = [] # list to store co-occurrences of Ahab with whale\n",
    "\n",
    "for context in ahab_contexts:\n",
    "    if 'whale' in context:\n",
    "        ahab_whale.append(context)"
   ]
  },
  {
   "cell_type": "code",
   "execution_count": 194,
   "metadata": {},
   "outputs": [
    {
     "data": {
      "text/plain": [
       "24"
      ]
     },
     "execution_count": 194,
     "metadata": {},
     "output_type": "execute_result"
    }
   ],
   "source": [
    "# they co-occur 24 times\n",
    "len(ahab_whale)"
   ]
  },
  {
   "cell_type": "code",
   "execution_count": 195,
   "metadata": {},
   "outputs": [
    {
     "data": {
      "text/plain": [
       "['their',\n",
       " 'own',\n",
       " 'peculiar',\n",
       " 'quarters',\n",
       " '.',\n",
       " 'In',\n",
       " 'this',\n",
       " 'one',\n",
       " 'matter',\n",
       " ',',\n",
       " 'Ahab',\n",
       " 'seemed',\n",
       " 'no',\n",
       " 'exception',\n",
       " 'to',\n",
       " 'most',\n",
       " 'American',\n",
       " 'whale',\n",
       " 'captains',\n",
       " ',']"
      ]
     },
     "execution_count": 195,
     "metadata": {},
     "output_type": "execute_result"
    }
   ],
   "source": [
    "# the first time\n",
    "ahab_whale[0]"
   ]
  },
  {
   "cell_type": "markdown",
   "metadata": {},
   "source": [
    "## Cleaning up lists of words with `join()`\n",
    "That sentence is a little hard to read. Let's make it look more like a sentence by using the `join()` method to combine list elements.\n",
    "\n",
    "You use `join` like this:\n",
    "\n",
    "```python\n",
    "' '.join(my_list)\n",
    "```\n",
    "\n",
    "So, if you want to recombine each list element with a single space between each, you would write:"
   ]
  },
  {
   "cell_type": "code",
   "execution_count": 199,
   "metadata": {},
   "outputs": [
    {
     "data": {
      "text/plain": [
       "'seemed strangely oblivious of its advance—as the whale sometimes will—and Ahab was fairly within the smoky mountain mist , which'"
      ]
     },
     "execution_count": 199,
     "metadata": {},
     "output_type": "execute_result"
    }
   ],
   "source": [
    "' '.join(ahab_whale[-1])"
   ]
  },
  {
   "cell_type": "markdown",
   "metadata": {},
   "source": [
    "You'll usually use it as above. But any string works with `join`:"
   ]
  },
  {
   "cell_type": "code",
   "execution_count": 85,
   "metadata": {},
   "outputs": [
    {
     "data": {
      "text/plain": [
       "'seemed|||strangely|||oblivious|||of|||its|||advance—as|||the|||whale|||sometimes|||will—and|||Ahab|||was|||fairly|||within|||the|||smoky|||mountain|||mist|||,|||which'"
      ]
     },
     "execution_count": 85,
     "metadata": {},
     "output_type": "execute_result"
    }
   ],
   "source": [
    "'|||'.join(ahab_whale[-1])"
   ]
  },
  {
   "cell_type": "markdown",
   "metadata": {},
   "source": [
    "# Abstracting out to functions\n",
    "\n",
    "We know how to make this work for one instance. Now, we just need to abstract it so that we can use it for *any* two words, and any amount of context. This will let us produce tons of results quickly.\n",
    "\n",
    "In Python, we abstract things to make them reusable with *functions*. The general form of a function is as follows:\n",
    "\n",
    "```python\n",
    "def my_function(my_object):\n",
    "    # do something\n",
    "    return my_value\n",
    "```\n",
    "\n",
    "So for example:"
   ]
  },
  {
   "cell_type": "code",
   "execution_count": 202,
   "metadata": {},
   "outputs": [],
   "source": [
    "def subtract_three(integer):\n",
    "    value = integer - 3\n",
    "    return value"
   ]
  },
  {
   "cell_type": "markdown",
   "metadata": {},
   "source": [
    "I can run my new function just like any other:"
   ]
  },
  {
   "cell_type": "code",
   "execution_count": 205,
   "metadata": {},
   "outputs": [
    {
     "data": {
      "text/plain": [
       "123078949820"
      ]
     },
     "execution_count": 205,
     "metadata": {},
     "output_type": "execute_result"
    }
   ],
   "source": [
    "subtract_three(123078949823)"
   ]
  },
  {
   "cell_type": "markdown",
   "metadata": {},
   "source": [
    "# `improved_find`\n",
    "We can apply the same logic to each of the steps we took above to create a few functions that comprise our upgraded search function.\n",
    "\n",
    "I'm putting each of the pieces we did above into functions, and then calling them in sequence with a wrapper function."
   ]
  },
  {
   "cell_type": "code",
   "execution_count": 269,
   "metadata": {},
   "outputs": [],
   "source": [
    "def make_tokens(text_path): # defining new function make_tokens and argument text_path\n",
    "    import nltk # import natural language toolkit\n",
    "    \n",
    "    # using the encoding utf 8, opens the file at the text path, assigning variable name f to take actions in next step\n",
    "    with open(text_path, encoding = 'utf8') as f:\n",
    "        text = f.read() # read variable f into variable text. this is the whole file.\n",
    "    \n",
    "    # use nltk's word_tokenize method to split our text into a list of tokens\n",
    "    # putting list of tokens into variable my_tokens\n",
    "    my_tokens = nltk.word_tokenize(text)\n",
    "    \n",
    "    return my_tokens # returning my_tokens to standard output"
   ]
  },
  {
   "cell_type": "code",
   "execution_count": 278,
   "metadata": {},
   "outputs": [
    {
     "name": "stdout",
     "output_type": "stream",
     "text": [
      "this is the index 0\n",
      "and this is the x aardvark\n",
      "------------------------------\n",
      "this is the index 1\n",
      "and this is the x berry\n",
      "------------------------------\n",
      "this is the index 2\n",
      "and this is the x capricorn\n",
      "------------------------------\n",
      "this is the index 3\n",
      "and this is the x 1\n",
      "------------------------------\n",
      "this is the index 4\n",
      "and this is the x 2\n",
      "------------------------------\n",
      "this is the index 5\n",
      "and this is the x 3\n",
      "------------------------------\n"
     ]
    }
   ],
   "source": [
    "for i,x in enumerate(my_list):\n",
    "    print('this is the index', i)\n",
    "    print('and this is the x', x)\n",
    "    print('-'*30)"
   ]
  },
  {
   "cell_type": "code",
   "execution_count": 285,
   "metadata": {},
   "outputs": [],
   "source": [
    "def get_indices(my_tokens, my_word): # define get_indices expecting arguments my_tokens, my_word\n",
    "    indices = [] # create an empty list to append our results to, defined outside of loop\n",
    "    \n",
    "    for index, word in enumerate(my_tokens): # for every index and every word of my_tokens...\n",
    "        if word == my_word: # is the word from my_tokens exactly equal to my_word\n",
    "            indices.append(index) # append index to our list of indices\n",
    "            \n",
    "    return indices # returning our list of indices"
   ]
  },
  {
   "cell_type": "code",
   "execution_count": 233,
   "metadata": {},
   "outputs": [],
   "source": [
    "def get_contexts(my_indices, my_tokens, window):\n",
    "    contexts = []\n",
    "    for index in my_indices:\n",
    "        context = my_tokens[index - window:index + window + 1]\n",
    "        contexts.append(context)\n",
    "    \n",
    "    return contexts"
   ]
  },
  {
   "cell_type": "code",
   "execution_count": 234,
   "metadata": {},
   "outputs": [],
   "source": [
    "def subset_contexts(my_contexts, next_word):\n",
    "    results = []\n",
    "    for context in my_contexts:\n",
    "        if next_word in context:\n",
    "            results.append(context)\n",
    "    \n",
    "    clean_results = []\n",
    "    for result in results:\n",
    "        cleaned = ' '.join(result)\n",
    "        clean_results.append(cleaned)\n",
    "    \n",
    "    return clean_results"
   ]
  },
  {
   "cell_type": "code",
   "execution_count": 235,
   "metadata": {},
   "outputs": [],
   "source": [
    "def improved_find(text_path, word_1, word_2, window):\n",
    "    '''This function takes a text path and user-defined parameters.\n",
    "    It returns a list of strings where the target words co-occur within the text.'''\n",
    "    tokens = make_tokens(text_path)\n",
    "    indices = get_indices(tokens, word_1)\n",
    "    contexts = get_contexts(indices, tokens, window)\n",
    "    results = subset_contexts(contexts, word_2)\n",
    "    \n",
    "    for result in results:\n",
    "        print(result)\n",
    "        print('-'*80)"
   ]
  },
  {
   "cell_type": "markdown",
   "metadata": {},
   "source": [
    "`improved_find` calls all of the above functions in order, and `prints` a nice result:"
   ]
  },
  {
   "cell_type": "code",
   "execution_count": 247,
   "metadata": {},
   "outputs": [],
   "source": [
    "improved_find(moby_path, 'god', 'whale', 10)"
   ]
  },
  {
   "cell_type": "markdown",
   "metadata": {},
   "source": [
    "# Challenges for today\n",
    "\n",
    "## 1. Apply to a text of your choosing\n",
    "\n",
    "Use the `improved_find` function to look for related words in a text of your choosing."
   ]
  },
  {
   "cell_type": "markdown",
   "metadata": {},
   "source": [
    "## 2. Explanatory comments\n",
    "It's common practice when learning to program to write comments that explain what each line and each element of a program does in order to make sure that you understand how it works. To take our example from above:"
   ]
  },
  {
   "cell_type": "code",
   "execution_count": 424,
   "metadata": {},
   "outputs": [],
   "source": [
    "def subtract_three(integer): # declare new function subtract_three that takes one argument, integer\n",
    "    value = integer - 3 # create a new variable, value, that results from integer minus three\n",
    "    return value # return the variable value to standard out"
   ]
  },
  {
   "cell_type": "markdown",
   "metadata": {},
   "source": [
    "Using our remaining time, comment each line of the `improved_find` function, and the other functions on which it depends."
   ]
  },
  {
   "cell_type": "markdown",
   "metadata": {},
   "source": [
    "## 3. Improve `improved_find`\n",
    "\n",
    "We could improve this search method in several ways:\n",
    "\n",
    "- Improve the tokenization process to account for punctuation differently.\n",
    "- Adjust the functions to make it possible to search for *multiple* words in proximity to the target word\n",
    "- Add either/or logic, i.e. \"Ahab or Queequeg within 10 words of whale.\"\n",
    "- Added efficiency: It would be possible to write this program more efficiently, using fewer functions and system resources. How could we do that? One obvious way to start would be to prevent the program from re-tokenizing the source text *every time it runs*."
   ]
  },
  {
   "cell_type": "markdown",
   "metadata": {},
   "source": [
    "# Pro Tip: Jupyter Shortcuts\n",
    "You can use keyboard shortcuts to control a lot of different parts of the Jupyter notebook. They are much faster than using the cursor. Memorizing a few will save you a lot of time!\n",
    "\n",
    "| command | description |\n",
    "|----------|-----------------------|\n",
    "`enter` | enter edit mode for the selected cell\n",
    "`esc`|exit edit mode for the selected cell\n",
    "`shift + enter`|execute the code inside of the cell\n",
    "`a`|insert a new cell above your current cell\n",
    "`b`|insert a new cell below your current cell\n",
    "`j`|move down one cell\n",
    "`k`|move up one cell\n",
    "`dd`|delete the selected cell"
   ]
  }
 ],
 "metadata": {
  "kernelspec": {
   "display_name": "Python 3",
   "language": "python",
   "name": "python3"
  },
  "language_info": {
   "codemirror_mode": {
    "name": "ipython",
    "version": 3
   },
   "file_extension": ".py",
   "mimetype": "text/x-python",
   "name": "python",
   "nbconvert_exporter": "python",
   "pygments_lexer": "ipython3",
   "version": "3.7.4"
  }
 },
 "nbformat": 4,
 "nbformat_minor": 4
}
